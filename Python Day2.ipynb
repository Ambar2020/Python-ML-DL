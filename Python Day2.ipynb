{
 "cells": [
  {
   "cell_type": "code",
   "execution_count": 9,
   "metadata": {},
   "outputs": [
    {
     "name": "stdout",
     "output_type": "stream",
     "text": [
      "<list_iterator object at 0x000001781FE825C0>\n",
      "10\n",
      "20\n",
      "30\n",
      "40\n",
      "50\n",
      "<list_iterator object at 0x000001781FE82588>\n",
      "10\n",
      "20\n",
      "30\n",
      "40\n",
      "50\n"
     ]
    }
   ],
   "source": [
    "l = [10,20,30,40,50]\n",
    "# print(dir(list))\n",
    "i = iter(l)\n",
    "j = iter(l)\n",
    "print(i)\n",
    "# print(next(i))\n",
    "\n",
    "for value in i:\n",
    "    print(value)\n",
    "print(j)\n",
    "for value in j:\n",
    "    print(value)"
   ]
  },
  {
   "cell_type": "code",
   "execution_count": null,
   "metadata": {},
   "outputs": [],
   "source": []
  },
  {
   "cell_type": "code",
   "execution_count": 10,
   "metadata": {},
   "outputs": [
    {
     "name": "stdout",
     "output_type": "stream",
     "text": [
      "['__bool__', '__class__', '__contains__', '__delattr__', '__dir__', '__doc__', '__eq__', '__format__', '__ge__', '__getattribute__', '__getitem__', '__gt__', '__hash__', '__init__', '__init_subclass__', '__iter__', '__le__', '__len__', '__lt__', '__ne__', '__new__', '__reduce__', '__reduce_ex__', '__repr__', '__reversed__', '__setattr__', '__sizeof__', '__str__', '__subclasshook__', 'count', 'index', 'start', 'step', 'stop']\n"
     ]
    }
   ],
   "source": [
    "# print(dir(range))"
   ]
  },
  {
   "cell_type": "code",
   "execution_count": 20,
   "metadata": {},
   "outputs": [],
   "source": [
    "import itertools\n",
    "\n",
    "l1 = [10,20,30,40,50,60]\n",
    "l2 = [100,200,300,400,500]\n",
    "l3 = range(1,5)\n",
    "\n",
    "i = itertools.chain(l1,l2,l3)\n",
    "\n",
    "# for value in itertools.islice(i,0,8):\n",
    "#     print(value)\n",
    "\n",
    "# t = itertools.tee(i,5)\n",
    "# print(t[0])\n",
    "# for value in t[0]:\n",
    "#     print(value)\n",
    "    \n",
    "# print(t[1])\n",
    "# for value in t[1]:\n",
    "#     print(value)\n"
   ]
  },
  {
   "cell_type": "code",
   "execution_count": 21,
   "metadata": {},
   "outputs": [
    {
     "name": "stdout",
     "output_type": "stream",
     "text": [
      "10\n",
      "20\n",
      "30\n",
      "40\n",
      "50\n",
      "60\n",
      "100\n",
      "200\n"
     ]
    }
   ],
   "source": [
    "for value in itertools.islice(i,0,8):\n",
    "    print(value)"
   ]
  },
  {
   "cell_type": "code",
   "execution_count": 24,
   "metadata": {},
   "outputs": [],
   "source": [
    "l = [10,20,30,40,50]\n",
    "count = 0\n",
    "# for value in itertools.cycle(l):\n",
    "#     if count <= 20:\n",
    "#         print(value)\n",
    "#     else:\n",
    "#         break\n",
    "#     count+=1\n",
    "\n",
    "# for value in itertools.repeat(l):\n",
    "#     if count <= 20:\n",
    "#         print(value)\n",
    "#     else:\n",
    "#         break\n",
    "#     count+=1"
   ]
  },
  {
   "cell_type": "code",
   "execution_count": 26,
   "metadata": {},
   "outputs": [
    {
     "name": "stdout",
     "output_type": "stream",
     "text": [
      "[(10, 20), (10, 30), (20, 10), (20, 30), (30, 10), (30, 20)]\n",
      "[(10, 20), (10, 30), (20, 30)]\n"
     ]
    }
   ],
   "source": [
    "l = [10,20,30]\n",
    "print(list(itertools.permutations(l,2)))\n",
    "print(list(itertools.combinations(l,2)))"
   ]
  },
  {
   "cell_type": "markdown",
   "metadata": {},
   "source": [
    "## Regular Expressions"
   ]
  },
  {
   "cell_type": "code",
   "execution_count": 27,
   "metadata": {},
   "outputs": [
    {
     "name": "stdout",
     "output_type": "stream",
     "text": [
      "['ab', 'ab', 'ab', 'ab']\n"
     ]
    }
   ],
   "source": [
    "import re\n",
    "s = \"abdgefeabcdabab\"\n",
    "r = re.compile(\"ab\")\n",
    "l = re.findall(r,s)\n",
    "print(l)"
   ]
  },
  {
   "cell_type": "markdown",
   "metadata": {},
   "source": [
    "## Meta Chars:\n",
    ". => Match with any char\n",
    "[a-z] => char class \n",
    "[0-9] => digit class\n",
    "+ => atleast one or more \n",
    "* => zero or more\n",
    "^ => start with\n",
    "$ => ends with\n",
    "[a-z]{4} => 4 char\n",
    "[a-z]{2,4} => min:2 max:4 char\n",
    "? optional \n"
   ]
  },
  {
   "cell_type": "code",
   "execution_count": 46,
   "metadata": {},
   "outputs": [
    {
     "name": "stdout",
     "output_type": "stream",
     "text": [
      "['abd1234']\n"
     ]
    }
   ],
   "source": [
    "import re\n",
    "s = \"abd1234\"\n",
    "r = re.compile(\"^[a-z]+[0-9]+$\")\n",
    "l = re.findall(r,s)\n",
    "print(l)"
   ]
  },
  {
   "cell_type": "code",
   "execution_count": 52,
   "metadata": {},
   "outputs": [
    {
     "name": "stdout",
     "output_type": "stream",
     "text": [
      "ABCDE1234A\n"
     ]
    }
   ],
   "source": [
    "s = \"ABCDE1234A\"\n",
    "r = re.compile(\"^[A-Z]{5}[0-9]{4}[A-Z]$\")\n",
    "m = re.search(r,s)\n",
    "# print(m)\n",
    "if m:\n",
    "    print(m.group())\n",
    "else:\n",
    "    print(\"Invalid pattern\")"
   ]
  },
  {
   "cell_type": "code",
   "execution_count": 60,
   "metadata": {},
   "outputs": [
    {
     "name": "stdout",
     "output_type": "stream",
     "text": [
      "31-13-1998\n"
     ]
    }
   ],
   "source": [
    "dt = \"31-13-1998\"\n",
    "r = re.compile(\"^([0-9]{2})-([0-9]{2})-([0-9]{4})$\")\n",
    "m = re.search(r,dt)\n",
    "if m:\n",
    "    print(m.group(0))\n",
    "else:\n",
    "    print(\"Invalid pattern\")"
   ]
  },
  {
   "cell_type": "code",
   "execution_count": 65,
   "metadata": {},
   "outputs": [
    {
     "name": "stdout",
     "output_type": "stream",
     "text": [
      "('31', '13', '1998')\n"
     ]
    }
   ],
   "source": [
    "dt = \"31-13-1998\"\n",
    "r = re.compile(\"^(?P<day>\\d{2})-(?P<month>[0-9]{2})-(?P<year>[0-9]{4})$\")\n",
    "m = re.search(r,dt)\n",
    "if m:\n",
    "    print(m.group(\"day\"))\n",
    "else:\n",
    "    print(\"Invalid pattern\")"
   ]
  },
  {
   "cell_type": "code",
   "execution_count": 97,
   "metadata": {},
   "outputs": [
    {
     "name": "stdout",
     "output_type": "stream",
     "text": [
      "**6234567189\n"
     ]
    }
   ],
   "source": [
    "contact = \"+91-6234567189\"\n",
    "r = re.compile(\"^(\\+91-)?([6-9]\\d{9})$\")\n",
    "m = re.search(r,contact)\n",
    "if m:\n",
    "    s = m.group()\n",
    "    s1 = s.replace(m.group(1),\"**\")\n",
    "#     print(type(m.group()))\n",
    "    print(s1)\n",
    "else:\n",
    "    print(\"Invalid number\")\n"
   ]
  },
  {
   "cell_type": "markdown",
   "metadata": {},
   "source": [
    "/s Space \n",
    "/S \n",
    "\n",
    "[0-9] \\d\n",
    "[^0-9] \\D\n",
    "\n",
    "[0-9A-Za-z] \\w\n",
    "\\W"
   ]
  },
  {
   "cell_type": "code",
   "execution_count": 112,
   "metadata": {},
   "outputs": [
    {
     "name": "stdout",
     "output_type": "stream",
     "text": [
      "True\n"
     ]
    }
   ],
   "source": [
    "import bs\n",
    "l = [100,200,300,400,500]\n",
    "key = 200\n",
    "print(bs.binary_search(l,key))\n"
   ]
  },
  {
   "cell_type": "code",
   "execution_count": 1,
   "metadata": {},
   "outputs": [
    {
     "name": "stdout",
     "output_type": "stream",
     "text": [
      "Help on module pkg1.bs in pkg1:\n",
      "\n",
      "NAME\n",
      "    pkg1.bs - This binary search implementation\n",
      "\n",
      "FUNCTIONS\n",
      "    binary_search(l, key)\n",
      "        Input as list and Key return True/False\n",
      "\n",
      "FILE\n",
      "    e:\\code\\notebooks\\evalueserve\\pkg1\\bs.py\n",
      "\n",
      "\n",
      "True\n"
     ]
    }
   ],
   "source": [
    "from pkg1 import bs\n",
    "help(bs)\n",
    "# from pkg1.bs import binary_search\n",
    "l = [100,200,300,400,500]\n",
    "key = 200\n",
    "print(bs.binary_search(l,key))"
   ]
  },
  {
   "cell_type": "markdown",
   "metadata": {},
   "source": [
    "import pkgname.pkgname.modulename\n",
    "from pkgname.modulename import mdule/class/function"
   ]
  },
  {
   "cell_type": "code",
   "execution_count": 4,
   "metadata": {},
   "outputs": [
    {
     "name": "stdout",
     "output_type": "stream",
     "text": [
      "['', 'C:\\\\ProgramData\\\\Anaconda3\\\\python36.zip', 'C:\\\\ProgramData\\\\Anaconda3\\\\DLLs', 'C:\\\\ProgramData\\\\Anaconda3\\\\lib', 'C:\\\\ProgramData\\\\Anaconda3', 'C:\\\\ProgramData\\\\Anaconda3\\\\lib\\\\site-packages', 'C:\\\\ProgramData\\\\Anaconda3\\\\lib\\\\site-packages\\\\win32', 'C:\\\\ProgramData\\\\Anaconda3\\\\lib\\\\site-packages\\\\win32\\\\lib', 'C:\\\\ProgramData\\\\Anaconda3\\\\lib\\\\site-packages\\\\Pythonwin', 'C:\\\\ProgramData\\\\Anaconda3\\\\lib\\\\site-packages\\\\IPython\\\\extensions', 'C:\\\\Users\\\\kunal\\\\.ipython']\n"
     ]
    }
   ],
   "source": [
    "import sys\n",
    "print(sys.path)"
   ]
  },
  {
   "cell_type": "markdown",
   "metadata": {},
   "source": [
    "Mode of  opening the file :\n",
    "    read r , r+\n",
    "    write w, w+\n",
    "    append a ,a+"
   ]
  },
  {
   "cell_type": "code",
   "execution_count": 17,
   "metadata": {},
   "outputs": [
    {
     "name": "stdout",
     "output_type": "stream",
     "text": [
      "Sample content line1\n",
      "\n",
      "Sample content line2\n",
      "\n",
      "Sample content line3\n",
      "\n",
      "Sample content line4\n",
      "\n",
      "Sample content line5\n"
     ]
    }
   ],
   "source": [
    "fp = open(\"test.txt\",\"r\")\n",
    "# content = fp.readlines()\n",
    "# print(content)\n",
    "# content = fp.read()\n",
    "# print(content)\n",
    "\n",
    "for x in fp:\n",
    "    print(x)\n",
    "\n",
    "fp.close()\n",
    "\n"
   ]
  },
  {
   "cell_type": "code",
   "execution_count": 25,
   "metadata": {},
   "outputs": [
    {
     "name": "stdout",
     "output_type": "stream",
     "text": [
      "9\n",
      "0\n",
      "Hi Python\n"
     ]
    }
   ],
   "source": [
    "fp1 = open(\"text2.txt\",\"w+\")\n",
    "fp1.write(\"Hi Python\")\n",
    "\n",
    "print(fp1.tell())\n",
    "fp1.seek(0)\n",
    "print(fp1.tell())\n",
    "content = fp1.read()\n",
    "print(content)\n",
    "\n",
    "fp1.close()"
   ]
  },
  {
   "cell_type": "code",
   "execution_count": null,
   "metadata": {},
   "outputs": [],
   "source": [
    "# seek(0,0) offset position \n",
    "# 0 : start of the file \n",
    "# 1 : current position \n",
    "# 2 : end of the file \n",
    "    \n",
    "# (5,0)\n",
    "# (15,2)"
   ]
  },
  {
   "cell_type": "code",
   "execution_count": 30,
   "metadata": {},
   "outputs": [
    {
     "name": "stdout",
     "output_type": "stream",
     "text": [
      "2\n",
      "9\n",
      "9\n",
      "\n"
     ]
    }
   ],
   "source": [
    "fp1 = open(\"text2.txt\",\"a+\")\n",
    "fp1.write(\"**\")\n",
    "\n",
    "print(fp1.tell())\n",
    "fp1.seek(0,2)\n",
    "# fp1.seek(3,1)\n",
    "print(fp1.tell())\n",
    "\n",
    "print(fp1.tell())\n",
    "content = fp1.read()\n",
    "print(content)\n",
    "\n",
    "fp1.close()"
   ]
  },
  {
   "cell_type": "markdown",
   "metadata": {},
   "source": [
    "r : fp : start ,file not exist : error , opeartion : read \n",
    "r+ : fp : start,file not : error , operation : read + write\n",
    "                \n",
    "w : fp :start,craete new one ,write \n",
    "w+ : fp : start,create new file , write + read \n",
    "        \n",
    "a : fp : end ,create new one ,write \n",
    "a+ : fp : end ,create new file , write  + read \n",
    "                "
   ]
  },
  {
   "cell_type": "code",
   "execution_count": 46,
   "metadata": {},
   "outputs": [
    {
     "name": "stdout",
     "output_type": "stream",
     "text": [
      "{\n",
      "    \"glossary\": {\n",
      "        \"title\": \"New title\",\n",
      "        \"GlossDiv\": {\n",
      "            \"title\": \"S\",\n",
      "            \"GlossList\": {\n",
      "                \"GlossEntry\": {\n",
      "                    \"ID\": [\n",
      "                        \"HTML\",\n",
      "                        \"SGML\"\n",
      "                    ],\n",
      "                    \"SortAs\": \"SGML\",\n",
      "                    \"GlossTerm\": \"Standard Generalized Markup Language\",\n",
      "                    \"Acronym\": \"SGML\",\n",
      "                    \"Abbrev\": \"ISO 8879:1986\",\n",
      "                    \"GlossDef\": {\n",
      "                        \"para\": \"A meta-markup language, used to create markup languages such as DocBook.\",\n",
      "                        \"GlossSeeAlso\": [\n",
      "                            \"GML\",\n",
      "                            \"XML\"\n",
      "                        ]\n",
      "                    },\n",
      "                    \"GlossSee\": \"markup\"\n",
      "                }\n",
      "            }\n",
      "        }\n",
      "    }\n",
      "}\n"
     ]
    }
   ],
   "source": [
    "import json\n",
    "fp = open(\"test.json\",\"r\")\n",
    "content = fp.read()\n",
    "fp.close()\n",
    "d = json.loads(content)\n",
    "# print(d['glossary']['GlossDiv']['GlossList']['GlossEntry']['ID'])\n",
    "d['glossary']['GlossDiv']['GlossList']['GlossEntry']['ID'] = (\"HTML\",\"SGML\")\n",
    "# print(d['glossary']['title'])\n",
    "d['glossary']['title'] = \"New title\"\n",
    "# print(d)\n",
    "\n",
    "j = json.dumps(d,indent=4)\n",
    "print(j)\n",
    "\n",
    "fp2 = open(\"test2.json\",\"w\")\n",
    "fp2.write(j)\n",
    "fp2.close()"
   ]
  },
  {
   "cell_type": "code",
   "execution_count": 47,
   "metadata": {},
   "outputs": [
    {
     "name": "stdout",
     "output_type": "stream",
     "text": [
      "Requirement already satisfied: xmltodict in c:\\programdata\\anaconda3\\lib\\site-packages (0.11.0)\n"
     ]
    }
   ],
   "source": [
    "!pip install xmltodict "
   ]
  },
  {
   "cell_type": "code",
   "execution_count": 53,
   "metadata": {},
   "outputs": [
    {
     "name": "stdout",
     "output_type": "stream",
     "text": [
      "<?xml version=\"1.0\" encoding=\"utf-8\"?>\n",
      "<glossary><title>example glossary</title><GlossDiv><title>S</title><GlossList><GlossEntry ID=\"SGML\" SortAs=\"SGML\"><GlossTerm>Standard Generalized Markup Language</GlossTerm><Acronym>SGML</Acronym><Abbrev>ISO 8879:1986</Abbrev><GlossDef><para>A meta-markup language, used to create markup\n",
      "languages such as DocBook.</para><GlossSeeAlso OtherTerm=\"GML\"></GlossSeeAlso><GlossSeeAlso OtherTerm=\"XML\"></GlossSeeAlso></GlossDef><GlossSee OtherTerm=\"markup\"></GlossSee></GlossEntry></GlossList></GlossDiv></glossary>\n",
      " <glossary><title>example glossary</title>\n",
      "  <GlossDiv><title>S</title>\n",
      "   <GlossList>\n",
      "    <GlossEntry ID=\"SGML\" SortAs=\"SGML\">\n",
      "     <GlossTerm>Standard Generalized Markup Language</GlossTerm>\n",
      "     <Acronym>SGML</Acronym>\n",
      "     <Abbrev>ISO 8879:1986</Abbrev>\n",
      "     <GlossDef>\n",
      "      <para>A meta-markup language, used to create markup\n",
      "languages such as DocBook.</para>\n",
      "      <GlossSeeAlso OtherTerm=\"GML\"/>\n",
      "      <GlossSeeAlso OtherTerm=\"XML\"/>\n",
      "     </GlossDef>\n",
      "     <GlossSee OtherTerm=\"markup\"/>\n",
      "    </GlossEntry>\n",
      "   </GlossList>\n",
      "  </GlossDiv>\n",
      " </glossary>\n"
     ]
    }
   ],
   "source": [
    "import xmltodict \n",
    "fp = open(\"test.xml\",\"r\")\n",
    "content = fp.read()\n",
    "\n",
    "d = xmltodict.parse(content)\n",
    "# print(d)\n",
    "x = xmltodict.unparse(d)\n",
    "print(x)\n",
    "\n",
    "print(content)\n",
    "fp.close()\n",
    "\n"
   ]
  },
  {
   "cell_type": "code",
   "execution_count": 70,
   "metadata": {},
   "outputs": [
    {
     "ename": "PermissionError",
     "evalue": "[Errno 13] Permission denied: 'test1.csv'",
     "output_type": "error",
     "traceback": [
      "\u001b[1;31m---------------------------------------------------------------------------\u001b[0m",
      "\u001b[1;31mPermissionError\u001b[0m                           Traceback (most recent call last)",
      "\u001b[1;32m<ipython-input-70-08449f9320c2>\u001b[0m in \u001b[0;36m<module>\u001b[1;34m()\u001b[0m\n\u001b[0;32m      1\u001b[0m \u001b[1;32mimport\u001b[0m \u001b[0mcsv\u001b[0m\u001b[1;33m\u001b[0m\u001b[0m\n\u001b[1;32m----> 2\u001b[1;33m \u001b[1;32mwith\u001b[0m \u001b[0mopen\u001b[0m\u001b[1;33m(\u001b[0m\u001b[1;34m\"test1.csv\"\u001b[0m\u001b[1;33m,\u001b[0m\u001b[1;34m\"a+\"\u001b[0m\u001b[1;33m)\u001b[0m \u001b[1;32mas\u001b[0m \u001b[0mfp\u001b[0m\u001b[1;33m:\u001b[0m\u001b[1;33m\u001b[0m\u001b[0m\n\u001b[0m\u001b[0;32m      3\u001b[0m \u001b[1;31m#     fp.seek(0)\u001b[0m\u001b[1;33m\u001b[0m\u001b[1;33m\u001b[0m\u001b[0m\n\u001b[0;32m      4\u001b[0m \u001b[1;31m#     reader = csv.reader(fp)\u001b[0m\u001b[1;33m\u001b[0m\u001b[1;33m\u001b[0m\u001b[0m\n\u001b[0;32m      5\u001b[0m \u001b[1;31m#     print(reader)\u001b[0m\u001b[1;33m\u001b[0m\u001b[1;33m\u001b[0m\u001b[0m\n",
      "\u001b[1;31mPermissionError\u001b[0m: [Errno 13] Permission denied: 'test1.csv'"
     ]
    }
   ],
   "source": [
    "import csv\n",
    "with open(\"test1.csv\",\"a+\") as fp:\n",
    "#     fp.seek(0)\n",
    "#     reader = csv.reader(fp)    \n",
    "#     print(reader)\n",
    "#     print(next(reader))\n",
    "#     for row in reader:\n",
    "#         print(row)\n",
    "\n",
    "#     writer = csv.writer(fp,lineterminator=\"\\n\")\n",
    "# #     writer.writerow([\"TRE\",\"789456123\",\"tre@xyz.com\"])\n",
    "#     writer.writerows([[\"POI\",\"789456123\",\"poi@xyz.com\"],[\"OLM\",\"789456123\",\"tre@xyz.com\"]])\n",
    "#     reader = csv.DictReader(fp)\n",
    "#     print(reader)\n",
    "#     print(next(reader))\n",
    "\n",
    "#     fields = [\"Name\",\"Contact\",\"Email\"]\n",
    "#     writer = csv.DictWriter(fp,fieldnames = fields)\n",
    "#     writer.writerow({\"Name\":\"ERT\",\"Email\":\"ert@xyz.com\"})\n",
    "    \n",
    "fp.close()"
   ]
  },
  {
   "cell_type": "markdown",
   "metadata": {},
   "source": [
    "Emp :\n",
    "    id \n",
    "    name \n",
    "    email \n",
    "    sal \n",
    "    \n",
    "    get_details \n",
    "    incr_sal\n",
    "    add_dept \n",
    "    \n",
    "    \n",
    "\n",
    "    "
   ]
  },
  {
   "cell_type": "code",
   "execution_count": 84,
   "metadata": {},
   "outputs": [
    {
     "name": "stdout",
     "output_type": "stream",
     "text": [
      "<__main__.Dev object at 0x00000219E61CF358>\n"
     ]
    }
   ],
   "source": [
    "class Emp:\n",
    "    \n",
    "    count = 0\n",
    "    def __init__(self,id,name,email,sal):\n",
    "        self.emp_id = id\n",
    "        self.name = name\n",
    "        self.email = email\n",
    "        self.sal = sal\n",
    "        Emp.count +=1\n",
    "        \n",
    "    def get_details(self):\n",
    "        return self.emp_id,self.name,self.email,self.sal\n",
    "        \n",
    "    def incr_sal(self,per=30):\n",
    "        self.sal =  (self.sal*per)/100 + self.sal\n",
    "        return self.sal\n",
    " \n",
    "class Dev(Emp,Demo):\n",
    "    pass\n",
    "\n",
    "\n",
    "emp1 = Dev(101,\"ABC\",\"abc@xyz.com\",50000)\n",
    "print(emp1)\n",
    "# Emp(emp1,101,\"ABC\",\"abc@xyz.com\",50000)\n",
    "\n",
    "# emp2 = Emp(102,\"XYZ\",\"xyz@xyz.com\",60000)\n",
    "# emp3 = Emp(103,\"PQR\",\"pqr@xyz.com\",70000)\n",
    "\n",
    "\n",
    "# l = [emp1,emp2,emp3]\n",
    "\n",
    "# for obj in l:\n",
    "#     print(obj.get_details())\n",
    "# print(emp1.emp_id,emp1.name,emp1.email,emp1.sal)\n",
    "# print(emp1.get_details())\n",
    "# print(emp2.get_details())\n",
    "\n",
    "\n",
    "# print(emp1.incr_sal(40))\n",
    "# emp2.incr_sal()\n",
    "# print(emp1.get_details())\n",
    "# Emp.get_details(emp1)\n",
    " \n",
    "# Emp.count = 10\n",
    "# print(emp1.count)\n",
    "# print(Emp.count)\n",
    "\n",
    "# method overloading\n",
    "\n",
    "# add(int a ,int b)\n",
    "# add(int a,str b)\n",
    "\n",
    "# method overriding \n",
    "\n",
    "\n",
    "# emp1.get details(name,id,eamil sal)\n",
    "\n",
    "# dev1.get_deatils(self)\n",
    "\n",
    "multiple inheritance \n",
    "A B\n",
    "\n",
    "C\n",
    "\n",
    "c.getdeatils()\n",
    "\n",
    "depth first left to right \n",
    "\n",
    "    "
   ]
  }
 ],
 "metadata": {
  "kernelspec": {
   "display_name": "Python 3",
   "language": "python",
   "name": "python3"
  },
  "language_info": {
   "codemirror_mode": {
    "name": "ipython",
    "version": 3
   },
   "file_extension": ".py",
   "mimetype": "text/x-python",
   "name": "python",
   "nbconvert_exporter": "python",
   "pygments_lexer": "ipython3",
   "version": "3.6.5"
  }
 },
 "nbformat": 4,
 "nbformat_minor": 2
}
