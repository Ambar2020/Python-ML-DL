{
 "cells": [
  {
   "cell_type": "code",
   "execution_count": 8,
   "metadata": {},
   "outputs": [
    {
     "name": "stdout",
     "output_type": "stream",
     "text": [
      "You can not divide be zero\n",
      "50\n"
     ]
    }
   ],
   "source": [
    "try:\n",
    "    l = [10,20,30,40]\n",
    "    print(l[50])\n",
    "    print(10 / 0)\n",
    "    print(\"Hello\")\n",
    "except:\n",
    "    print(\"You can not divide be zero\")\n",
    "\n",
    "    \n",
    "    print(10 * 5 )"
   ]
  },
  {
   "cell_type": "code",
   "execution_count": 20,
   "metadata": {},
   "outputs": [
    {
     "name": "stdout",
     "output_type": "stream",
     "text": [
      "You can not divide by zero division by zero\n",
      "Statement after except block\n"
     ]
    }
   ],
   "source": [
    "class ValueLessThan50(Exception):\n",
    "    pass\n",
    "\n",
    "num1 = 10\n",
    "\n",
    "try :\n",
    "    print(10/0)\n",
    "    if num1 < 50:\n",
    "        raise ValueLessThan50(\"Value is too less\")  \n",
    "        \n",
    "#     l = [10,20,30]\n",
    "#     print(l[10])\n",
    "#     print(a)\n",
    "#     print(10 /0)\n",
    "except ZeroDivisionError as e:\n",
    "    print(\"You can not divide by zero\",e)\n",
    "except NameError:\n",
    "    print(\"Variable no defined\")\n",
    "except ValueLessThan50 as e:\n",
    "    print(\"Value should be greater than 50\",e)\n",
    "except:\n",
    "    print(\"Runtime error\")\n",
    "    \n",
    "print(\"Statement after except block\")    \n"
   ]
  },
  {
   "cell_type": "code",
   "execution_count": null,
   "metadata": {},
   "outputs": [],
   "source": []
  },
  {
   "cell_type": "code",
   "execution_count": 21,
   "metadata": {},
   "outputs": [
    {
     "ename": "ZeroDivisionError",
     "evalue": "division by zero",
     "output_type": "error",
     "traceback": [
      "\u001b[1;31m---------------------------------------------------------------------------\u001b[0m",
      "\u001b[1;31mZeroDivisionError\u001b[0m                         Traceback (most recent call last)",
      "\u001b[1;32m<ipython-input-21-65966e0a195f>\u001b[0m in \u001b[0;36m<module>\u001b[1;34m()\u001b[0m\n\u001b[1;32m----> 1\u001b[1;33m \u001b[0mprint\u001b[0m\u001b[1;33m(\u001b[0m\u001b[1;36m10\u001b[0m \u001b[1;33m/\u001b[0m \u001b[1;36m0\u001b[0m\u001b[1;33m)\u001b[0m\u001b[1;33m\u001b[0m\u001b[0m\n\u001b[0m",
      "\u001b[1;31mZeroDivisionError\u001b[0m: division by zero"
     ]
    }
   ],
   "source": [
    "print(10 / 0)"
   ]
  },
  {
   "cell_type": "code",
   "execution_count": 22,
   "metadata": {},
   "outputs": [
    {
     "name": "stdout",
     "output_type": "stream",
     "text": [
      "Help on class ZeroDivisionError in module builtins:\n",
      "\n",
      "class ZeroDivisionError(ArithmeticError)\n",
      " |  Second argument to a division or modulo operation was zero.\n",
      " |  \n",
      " |  Method resolution order:\n",
      " |      ZeroDivisionError\n",
      " |      ArithmeticError\n",
      " |      Exception\n",
      " |      BaseException\n",
      " |      object\n",
      " |  \n",
      " |  Methods defined here:\n",
      " |  \n",
      " |  __init__(self, /, *args, **kwargs)\n",
      " |      Initialize self.  See help(type(self)) for accurate signature.\n",
      " |  \n",
      " |  __new__(*args, **kwargs) from builtins.type\n",
      " |      Create and return a new object.  See help(type) for accurate signature.\n",
      " |  \n",
      " |  ----------------------------------------------------------------------\n",
      " |  Methods inherited from BaseException:\n",
      " |  \n",
      " |  __delattr__(self, name, /)\n",
      " |      Implement delattr(self, name).\n",
      " |  \n",
      " |  __getattribute__(self, name, /)\n",
      " |      Return getattr(self, name).\n",
      " |  \n",
      " |  __reduce__(...)\n",
      " |      helper for pickle\n",
      " |  \n",
      " |  __repr__(self, /)\n",
      " |      Return repr(self).\n",
      " |  \n",
      " |  __setattr__(self, name, value, /)\n",
      " |      Implement setattr(self, name, value).\n",
      " |  \n",
      " |  __setstate__(...)\n",
      " |  \n",
      " |  __str__(self, /)\n",
      " |      Return str(self).\n",
      " |  \n",
      " |  with_traceback(...)\n",
      " |      Exception.with_traceback(tb) --\n",
      " |      set self.__traceback__ to tb and return self.\n",
      " |  \n",
      " |  ----------------------------------------------------------------------\n",
      " |  Data descriptors inherited from BaseException:\n",
      " |  \n",
      " |  __cause__\n",
      " |      exception cause\n",
      " |  \n",
      " |  __context__\n",
      " |      exception context\n",
      " |  \n",
      " |  __dict__\n",
      " |  \n",
      " |  __suppress_context__\n",
      " |  \n",
      " |  __traceback__\n",
      " |  \n",
      " |  args\n",
      "\n"
     ]
    }
   ],
   "source": [
    "help(ZeroDivisionError)"
   ]
  },
  {
   "cell_type": "code",
   "execution_count": 31,
   "metadata": {},
   "outputs": [
    {
     "name": "stdout",
     "output_type": "stream",
     "text": [
      "Values are not equal \n",
      "This will always get executed\n"
     ]
    }
   ],
   "source": [
    "num1 = 100\n",
    "num2 = 200\n",
    "\n",
    "try:\n",
    "    assert(num1 == num2)\n",
    "except AssertionError as e:\n",
    "    print(\"Values are not equal\",e)\n",
    "finally:\n",
    "    print(\"This will always get executed\")"
   ]
  },
  {
   "cell_type": "code",
   "execution_count": 35,
   "metadata": {},
   "outputs": [
    {
     "data": {
      "text/plain": [
       "'Hi10'"
      ]
     },
     "execution_count": 35,
     "metadata": {},
     "output_type": "execute_result"
    }
   ],
   "source": [
    "def add(val1,val2):\n",
    "    try:\n",
    "        return val1 + val2\n",
    "    except TypeError:\n",
    "        return str(val1)+str(val2)\n",
    "\n",
    "# print(add(10,20))\n",
    "# print(add(\"Hi\",\"Python\")\n",
    "add(\"Hi\",10)"
   ]
  },
  {
   "cell_type": "code",
   "execution_count": 44,
   "metadata": {},
   "outputs": [
    {
     "data": {
      "text/plain": [
       "<sqlite3.Cursor at 0x2601bc24500>"
      ]
     },
     "execution_count": 44,
     "metadata": {},
     "output_type": "execute_result"
    }
   ],
   "source": [
    "import sqlite3\n",
    "\n",
    "# cx_oracle : dsn , username password \n",
    "\n",
    "# pymysql  db =\"\",user=\"\", password=\"\"   \n",
    "    \n",
    "conn = sqlite3.connect(\"db1.db\")\n",
    "cursor = conn.cursor()\n",
    "\n",
    "cursor.execute(\"\"\"CREATE TABLE IF NOT EXISTS EMP (\n",
    "ID INT PRIMARY KEY,\n",
    "NAME TEXT,\n",
    "EMAIL TEXT,\n",
    "SALARY REAL) \n",
    "\"\"\")\n",
    "\n",
    "\n",
    "\n"
   ]
  },
  {
   "cell_type": "code",
   "execution_count": null,
   "metadata": {},
   "outputs": [],
   "source": []
  },
  {
   "cell_type": "code",
   "execution_count": 52,
   "metadata": {},
   "outputs": [
    {
     "data": {
      "text/plain": [
       "<sqlite3.Cursor at 0x2601bc24500>"
      ]
     },
     "execution_count": 52,
     "metadata": {},
     "output_type": "execute_result"
    }
   ],
   "source": [
    "try :\n",
    "    cursor.execute(\"INSERT INTO EMP (ID,NAME,EMAIL,SALARY) VALUES(101,'ABC','ABC@XYZ.COM',45000)\")\n",
    "except sqlite3.IntegrityError:\n",
    "    pass\n",
    "\n",
    "id = 102\n",
    "name = 'PQR'\n",
    "email = 'pqr@xyz.com'\n",
    "sal = 65000\n",
    "try:\n",
    "    cursor.execute(\"INSERT INTO EMP (ID,NAME,EMAIL,SALARY) VALUES(?,?,?,?)\",(id,name,email,sal))\n",
    "    \n",
    "except sqlite3.IntegrityError:\n",
    "    pass\n",
    "cursor.execute(\"COMMIT\")"
   ]
  },
  {
   "cell_type": "code",
   "execution_count": 60,
   "metadata": {},
   "outputs": [
    {
     "name": "stdout",
     "output_type": "stream",
     "text": [
      "[(101, 'ABC', 'ABC@XYZ.COM', 45000.0), (102, 'PQR', 'pqr@xyz.com', 65000.0)]\n"
     ]
    }
   ],
   "source": [
    "cursor.execute(\"SELECT * FROM EMP\")\n",
    "# print(next(cursor))\n",
    "# print(next(cursor))\n",
    "\n",
    "# for row in cursor:\n",
    "#     print(row)\n",
    "\n",
    "print(cursor.fetchall())\n"
   ]
  },
  {
   "cell_type": "code",
   "execution_count": 62,
   "metadata": {},
   "outputs": [
    {
     "data": {
      "text/plain": [
       "<sqlite3.Cursor at 0x2601bc24500>"
      ]
     },
     "execution_count": 62,
     "metadata": {},
     "output_type": "execute_result"
    }
   ],
   "source": [
    "cursor.execute(\"\"\"UPDATE EMP SET EMAIL = 'RST@XYZ.COM' WHERE ID = 102\"\"\")\n",
    "cursor.execute(\"COMMIT\")"
   ]
  },
  {
   "cell_type": "code",
   "execution_count": 63,
   "metadata": {},
   "outputs": [
    {
     "name": "stdout",
     "output_type": "stream",
     "text": [
      "(102, 'PQR', 'RST@XYZ.COM', 65000.0)\n"
     ]
    }
   ],
   "source": [
    "cursor.execute(\"SELECT * FROM EMP WHERE ID = ?\",(102,))\n",
    "print(next(cursor))"
   ]
  },
  {
   "cell_type": "code",
   "execution_count": 64,
   "metadata": {},
   "outputs": [
    {
     "data": {
      "text/plain": [
       "<sqlite3.Cursor at 0x2601bc24500>"
      ]
     },
     "execution_count": 64,
     "metadata": {},
     "output_type": "execute_result"
    }
   ],
   "source": [
    "cursor.execute(\"DELETE FROM EMP WHERE ID = 101\")\n",
    "cursor.execute(\"COMMIT\")"
   ]
  },
  {
   "cell_type": "code",
   "execution_count": 65,
   "metadata": {},
   "outputs": [
    {
     "name": "stdout",
     "output_type": "stream",
     "text": [
      "[(102, 'PQR', 'RST@XYZ.COM', 65000.0)]\n"
     ]
    }
   ],
   "source": [
    "cursor.execute(\"SELECT * FROM EMP\")\n",
    "print(cursor.fetchall())"
   ]
  },
  {
   "cell_type": "code",
   "execution_count": null,
   "metadata": {},
   "outputs": [],
   "source": [
    "conn.close()"
   ]
  },
  {
   "cell_type": "code",
   "execution_count": 66,
   "metadata": {},
   "outputs": [],
   "source": [
    "from pymongo import MongoClient"
   ]
  },
  {
   "cell_type": "code",
   "execution_count": 80,
   "metadata": {},
   "outputs": [],
   "source": [
    "connection = MongoClient(\"localhost\",27017)\n",
    "db = connection.sample\n",
    "collection = db.employee"
   ]
  },
  {
   "cell_type": "code",
   "execution_count": 76,
   "metadata": {},
   "outputs": [
    {
     "data": {
      "text/plain": [
       "<pymongo.results.InsertOneResult at 0x2601bf483c8>"
      ]
     },
     "execution_count": 76,
     "metadata": {},
     "output_type": "execute_result"
    }
   ],
   "source": [
    "# collection.insert_one({'id':101,'name':'kunal','email':'kunal@xyz.com'})"
   ]
  },
  {
   "cell_type": "code",
   "execution_count": 82,
   "metadata": {},
   "outputs": [
    {
     "data": {
      "text/plain": [
       "<pymongo.results.InsertManyResult at 0x2601bf48308>"
      ]
     },
     "execution_count": 82,
     "metadata": {},
     "output_type": "execute_result"
    }
   ],
   "source": [
    "collection.insert_many([\n",
    "    {'id':104,'name':'XYZ','email':'kunal@xyz.com'},\n",
    "    {'id':105,'name':'ESR','email':'kunal@xyz.com','contact':\"789456134\"},\n",
    "    {'id':106,'name':'POI','email':'kunal@xyz.com'}\n",
    "])"
   ]
  },
  {
   "cell_type": "code",
   "execution_count": null,
   "metadata": {},
   "outputs": [],
   "source": [
    "# 14.143.124.134"
   ]
  },
  {
   "cell_type": "code",
   "execution_count": 83,
   "metadata": {},
   "outputs": [
    {
     "name": "stdout",
     "output_type": "stream",
     "text": [
      "{'_id': ObjectId('5b7dc5f9ad3de238583683c1'), 'id': 101, 'name': 'ABC', 'email': 'abc@abc.com'}\n",
      "{'_id': ObjectId('5b7dc761ad3de238583683c2'), 'id': 102, 'name': 'PQR', 'email': 'pqr@xyz.com'}\n",
      "{'_id': ObjectId('5b7e56f8ad3de22e9ce6f87e'), 'id': 101, 'name': 'kunal', 'email': 'kunal@xyz.com'}\n",
      "{'_id': ObjectId('5b7e60b3ad3de22e9ce6f884'), 'id': 104, 'name': 'XYZ', 'email': 'kunal@xyz.com'}\n",
      "{'_id': ObjectId('5b7e60b3ad3de22e9ce6f885'), 'id': 105, 'name': 'ESR', 'email': 'kunal@xyz.com', 'contact': '789456134'}\n",
      "{'_id': ObjectId('5b7e60b3ad3de22e9ce6f886'), 'id': 106, 'name': 'POI', 'email': 'kunal@xyz.com'}\n"
     ]
    }
   ],
   "source": [
    "g = collection.find()\n",
    "for row in g:\n",
    "    print(row)"
   ]
  },
  {
   "cell_type": "code",
   "execution_count": 90,
   "metadata": {},
   "outputs": [
    {
     "name": "stdout",
     "output_type": "stream",
     "text": [
      "{'_id': ObjectId('5b7e60b3ad3de22e9ce6f886'), 'id': 106, 'name': 'POI', 'email': 'kunal@xyz.com'}\n"
     ]
    }
   ],
   "source": [
    "g = collection.find_one({'id':106})\n",
    "print(g)"
   ]
  },
  {
   "cell_type": "code",
   "execution_count": 93,
   "metadata": {},
   "outputs": [
    {
     "name": "stdout",
     "output_type": "stream",
     "text": [
      "{'_id': ObjectId('5b7dc5f9ad3de238583683c1'), 'id': 101, 'name': 'AZQ', 'email': 'abc@abc.com'}\n",
      "{'_id': ObjectId('5b7e56f8ad3de22e9ce6f87e'), 'id': 101, 'name': 'kunal', 'email': 'kunal@xyz.com'}\n"
     ]
    }
   ],
   "source": [
    "collection.update_one({'id':101},{'$set':{'name':'AZQ'}})\n",
    "g = collection.find({'id':101})\n",
    "print(next(g))\n",
    "print(next(g))"
   ]
  },
  {
   "cell_type": "code",
   "execution_count": 96,
   "metadata": {},
   "outputs": [
    {
     "name": "stdout",
     "output_type": "stream",
     "text": [
      "{'_id': ObjectId('5b7dc5f9ad3de238583683c1'), 'id': 101, 'name': 'AZQ', 'email': 'abc@abc.com'}\n",
      "{'_id': ObjectId('5b7e56f8ad3de22e9ce6f87e'), 'id': 101, 'name': 'kunal', 'email': 'kunal@xyz.com'}\n",
      "{'_id': ObjectId('5b7e60b3ad3de22e9ce6f884'), 'id': 104, 'name': 'XYZ', 'email': 'kunal@xyz.com'}\n",
      "{'_id': ObjectId('5b7e60b3ad3de22e9ce6f885'), 'id': 105, 'name': 'ESR', 'email': 'kunal@xyz.com', 'contact': '789456134'}\n",
      "{'_id': ObjectId('5b7e60b3ad3de22e9ce6f886'), 'id': 106, 'name': 'POI', 'email': 'kunal@xyz.com'}\n"
     ]
    }
   ],
   "source": [
    "collection.delete_one({\"id\":102})\n",
    "g = collection.find()\n",
    "for row in g:\n",
    "    print(row)"
   ]
  },
  {
   "cell_type": "code",
   "execution_count": null,
   "metadata": {},
   "outputs": [],
   "source": []
  }
 ],
 "metadata": {
  "kernelspec": {
   "display_name": "Python 3",
   "language": "python",
   "name": "python3"
  },
  "language_info": {
   "codemirror_mode": {
    "name": "ipython",
    "version": 3
   },
   "file_extension": ".py",
   "mimetype": "text/x-python",
   "name": "python",
   "nbconvert_exporter": "python",
   "pygments_lexer": "ipython3",
   "version": "3.6.5"
  }
 },
 "nbformat": 4,
 "nbformat_minor": 2
}
