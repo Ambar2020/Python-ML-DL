{
 "cells": [
  {
   "cell_type": "code",
   "execution_count": 1,
   "metadata": {},
   "outputs": [],
   "source": [
    "import pandas as pd"
   ]
  },
  {
   "cell_type": "code",
   "execution_count": 3,
   "metadata": {},
   "outputs": [],
   "source": [
    "jena_data = pd.read_csv('jena_climate_2009_2016.csv')"
   ]
  },
  {
   "cell_type": "code",
   "execution_count": 5,
   "metadata": {},
   "outputs": [],
   "source": [
    "jena_data.drop('Date Time',axis=1, inplace=True)"
   ]
  },
  {
   "cell_type": "code",
   "execution_count": 6,
   "metadata": {},
   "outputs": [
    {
     "data": {
      "text/html": [
       "<div>\n",
       "<style scoped>\n",
       "    .dataframe tbody tr th:only-of-type {\n",
       "        vertical-align: middle;\n",
       "    }\n",
       "\n",
       "    .dataframe tbody tr th {\n",
       "        vertical-align: top;\n",
       "    }\n",
       "\n",
       "    .dataframe thead th {\n",
       "        text-align: right;\n",
       "    }\n",
       "</style>\n",
       "<table border=\"1\" class=\"dataframe\">\n",
       "  <thead>\n",
       "    <tr style=\"text-align: right;\">\n",
       "      <th></th>\n",
       "      <th>p (mbar)</th>\n",
       "      <th>T (degC)</th>\n",
       "      <th>Tpot (K)</th>\n",
       "      <th>Tdew (degC)</th>\n",
       "      <th>rh (%)</th>\n",
       "      <th>VPmax (mbar)</th>\n",
       "      <th>VPact (mbar)</th>\n",
       "      <th>VPdef (mbar)</th>\n",
       "      <th>sh (g/kg)</th>\n",
       "      <th>H2OC (mmol/mol)</th>\n",
       "      <th>rho (g/m**3)</th>\n",
       "      <th>wv (m/s)</th>\n",
       "      <th>max. wv (m/s)</th>\n",
       "      <th>wd (deg)</th>\n",
       "    </tr>\n",
       "  </thead>\n",
       "  <tbody>\n",
       "    <tr>\n",
       "      <th>0</th>\n",
       "      <td>996.52</td>\n",
       "      <td>-8.02</td>\n",
       "      <td>265.40</td>\n",
       "      <td>-8.90</td>\n",
       "      <td>93.3</td>\n",
       "      <td>3.33</td>\n",
       "      <td>3.11</td>\n",
       "      <td>0.22</td>\n",
       "      <td>1.94</td>\n",
       "      <td>3.12</td>\n",
       "      <td>1307.75</td>\n",
       "      <td>1.03</td>\n",
       "      <td>1.75</td>\n",
       "      <td>152.3</td>\n",
       "    </tr>\n",
       "    <tr>\n",
       "      <th>1</th>\n",
       "      <td>996.57</td>\n",
       "      <td>-8.41</td>\n",
       "      <td>265.01</td>\n",
       "      <td>-9.28</td>\n",
       "      <td>93.4</td>\n",
       "      <td>3.23</td>\n",
       "      <td>3.02</td>\n",
       "      <td>0.21</td>\n",
       "      <td>1.89</td>\n",
       "      <td>3.03</td>\n",
       "      <td>1309.80</td>\n",
       "      <td>0.72</td>\n",
       "      <td>1.50</td>\n",
       "      <td>136.1</td>\n",
       "    </tr>\n",
       "    <tr>\n",
       "      <th>2</th>\n",
       "      <td>996.53</td>\n",
       "      <td>-8.51</td>\n",
       "      <td>264.91</td>\n",
       "      <td>-9.31</td>\n",
       "      <td>93.9</td>\n",
       "      <td>3.21</td>\n",
       "      <td>3.01</td>\n",
       "      <td>0.20</td>\n",
       "      <td>1.88</td>\n",
       "      <td>3.02</td>\n",
       "      <td>1310.24</td>\n",
       "      <td>0.19</td>\n",
       "      <td>0.63</td>\n",
       "      <td>171.6</td>\n",
       "    </tr>\n",
       "    <tr>\n",
       "      <th>3</th>\n",
       "      <td>996.51</td>\n",
       "      <td>-8.31</td>\n",
       "      <td>265.12</td>\n",
       "      <td>-9.07</td>\n",
       "      <td>94.2</td>\n",
       "      <td>3.26</td>\n",
       "      <td>3.07</td>\n",
       "      <td>0.19</td>\n",
       "      <td>1.92</td>\n",
       "      <td>3.08</td>\n",
       "      <td>1309.19</td>\n",
       "      <td>0.34</td>\n",
       "      <td>0.50</td>\n",
       "      <td>198.0</td>\n",
       "    </tr>\n",
       "    <tr>\n",
       "      <th>4</th>\n",
       "      <td>996.51</td>\n",
       "      <td>-8.27</td>\n",
       "      <td>265.15</td>\n",
       "      <td>-9.04</td>\n",
       "      <td>94.1</td>\n",
       "      <td>3.27</td>\n",
       "      <td>3.08</td>\n",
       "      <td>0.19</td>\n",
       "      <td>1.92</td>\n",
       "      <td>3.09</td>\n",
       "      <td>1309.00</td>\n",
       "      <td>0.32</td>\n",
       "      <td>0.63</td>\n",
       "      <td>214.3</td>\n",
       "    </tr>\n",
       "  </tbody>\n",
       "</table>\n",
       "</div>"
      ],
      "text/plain": [
       "   p (mbar)  T (degC)  Tpot (K)  Tdew (degC)  rh (%)  VPmax (mbar)  \\\n",
       "0    996.52     -8.02    265.40        -8.90    93.3          3.33   \n",
       "1    996.57     -8.41    265.01        -9.28    93.4          3.23   \n",
       "2    996.53     -8.51    264.91        -9.31    93.9          3.21   \n",
       "3    996.51     -8.31    265.12        -9.07    94.2          3.26   \n",
       "4    996.51     -8.27    265.15        -9.04    94.1          3.27   \n",
       "\n",
       "   VPact (mbar)  VPdef (mbar)  sh (g/kg)  H2OC (mmol/mol)  rho (g/m**3)  \\\n",
       "0          3.11          0.22       1.94             3.12       1307.75   \n",
       "1          3.02          0.21       1.89             3.03       1309.80   \n",
       "2          3.01          0.20       1.88             3.02       1310.24   \n",
       "3          3.07          0.19       1.92             3.08       1309.19   \n",
       "4          3.08          0.19       1.92             3.09       1309.00   \n",
       "\n",
       "   wv (m/s)  max. wv (m/s)  wd (deg)  \n",
       "0      1.03           1.75     152.3  \n",
       "1      0.72           1.50     136.1  \n",
       "2      0.19           0.63     171.6  \n",
       "3      0.34           0.50     198.0  \n",
       "4      0.32           0.63     214.3  "
      ]
     },
     "execution_count": 6,
     "metadata": {},
     "output_type": "execute_result"
    }
   ],
   "source": [
    "jena_data.head()"
   ]
  },
  {
   "cell_type": "code",
   "execution_count": 7,
   "metadata": {},
   "outputs": [
    {
     "name": "stdout",
     "output_type": "stream",
     "text": [
      "<class 'pandas.core.frame.DataFrame'>\n",
      "RangeIndex: 420551 entries, 0 to 420550\n",
      "Data columns (total 14 columns):\n",
      "p (mbar)           420551 non-null float64\n",
      "T (degC)           420551 non-null float64\n",
      "Tpot (K)           420551 non-null float64\n",
      "Tdew (degC)        420551 non-null float64\n",
      "rh (%)             420551 non-null float64\n",
      "VPmax (mbar)       420551 non-null float64\n",
      "VPact (mbar)       420551 non-null float64\n",
      "VPdef (mbar)       420551 non-null float64\n",
      "sh (g/kg)          420551 non-null float64\n",
      "H2OC (mmol/mol)    420551 non-null float64\n",
      "rho (g/m**3)       420551 non-null float64\n",
      "wv (m/s)           420551 non-null float64\n",
      "max. wv (m/s)      420551 non-null float64\n",
      "wd (deg)           420551 non-null float64\n",
      "dtypes: float64(14)\n",
      "memory usage: 44.9 MB\n"
     ]
    }
   ],
   "source": [
    "jena_data.info()"
   ]
  },
  {
   "cell_type": "code",
   "execution_count": 8,
   "metadata": {},
   "outputs": [],
   "source": [
    "import numpy as np"
   ]
  },
  {
   "cell_type": "code",
   "execution_count": 20,
   "metadata": {},
   "outputs": [],
   "source": [
    "trainX = np.zeros((290,1440,14))\n",
    "trainY = np.zeros(290)"
   ]
  },
  {
   "cell_type": "code",
   "execution_count": 15,
   "metadata": {},
   "outputs": [],
   "source": [
    "float_data = jena_data.values"
   ]
  },
  {
   "cell_type": "code",
   "execution_count": 13,
   "metadata": {},
   "outputs": [
    {
     "data": {
      "text/plain": [
       "(420551, 14)"
      ]
     },
     "execution_count": 13,
     "metadata": {},
     "output_type": "execute_result"
    }
   ],
   "source": [
    "float_data.shape"
   ]
  },
  {
   "cell_type": "code",
   "execution_count": 16,
   "metadata": {},
   "outputs": [],
   "source": [
    "m = float_data.mean(axis=0)"
   ]
  },
  {
   "cell_type": "code",
   "execution_count": 17,
   "metadata": {},
   "outputs": [],
   "source": [
    "std = float_data.std(axis=0)"
   ]
  },
  {
   "cell_type": "code",
   "execution_count": 18,
   "metadata": {},
   "outputs": [],
   "source": [
    "float_data = (float_data - m)/std"
   ]
  },
  {
   "cell_type": "code",
   "execution_count": 21,
   "metadata": {},
   "outputs": [],
   "source": [
    "cnt = 0\n",
    "for i in range(290):\n",
    "    trainX[i] = float_data[cnt:cnt+1440]\n",
    "    cnt += 1440\n",
    "    trainY[i] = float_data[cnt][1]"
   ]
  },
  {
   "cell_type": "code",
   "execution_count": 23,
   "metadata": {},
   "outputs": [
    {
     "data": {
      "text/plain": [
       "(290, 1440, 14)"
      ]
     },
     "execution_count": 23,
     "metadata": {},
     "output_type": "execute_result"
    }
   ],
   "source": [
    "trainX.shape"
   ]
  },
  {
   "cell_type": "code",
   "execution_count": 24,
   "metadata": {},
   "outputs": [],
   "source": [
    "from keras.layers import LSTM,Dense"
   ]
  },
  {
   "cell_type": "code",
   "execution_count": 25,
   "metadata": {},
   "outputs": [],
   "source": [
    "from keras.models import Sequential"
   ]
  },
  {
   "cell_type": "code",
   "execution_count": 26,
   "metadata": {},
   "outputs": [],
   "source": []
  },
  {
   "cell_type": "code",
   "execution_count": 38,
   "metadata": {},
   "outputs": [
    {
     "name": "stdout",
     "output_type": "stream",
     "text": [
      "_________________________________________________________________\n",
      "Layer (type)                 Output Shape              Param #   \n",
      "=================================================================\n",
      "lstm_3 (LSTM)                (None, 1440, 256)         277504    \n",
      "_________________________________________________________________\n",
      "lstm_4 (LSTM)                (None, 128)               197120    \n",
      "_________________________________________________________________\n",
      "dense_2 (Dense)              (None, 1)                 129       \n",
      "=================================================================\n",
      "Total params: 474,753\n",
      "Trainable params: 474,753\n",
      "Non-trainable params: 0\n",
      "_________________________________________________________________\n"
     ]
    }
   ],
   "source": [
    "model = Sequential()\n",
    "model.add(LSTM(256, input_shape=(1440,14), return_sequences=True))\n",
    "model.add(LSTM(128))\n",
    "model.add(Dense(1))\n",
    "model.summary()"
   ]
  },
  {
   "cell_type": "code",
   "execution_count": 39,
   "metadata": {},
   "outputs": [],
   "source": [
    "model.compile(loss='mse',optimizer='rmsprop')"
   ]
  },
  {
   "cell_type": "code",
   "execution_count": 32,
   "metadata": {},
   "outputs": [],
   "source": [
    "X = np.vstack([trainX,trainX,trainX,trainX,trainX])\n",
    "Y = np.concatenate([trainY,trainY,trainY,trainY,trainY])"
   ]
  },
  {
   "cell_type": "code",
   "execution_count": 34,
   "metadata": {},
   "outputs": [
    {
     "data": {
      "text/plain": [
       "(1450, 1440, 14)"
      ]
     },
     "execution_count": 34,
     "metadata": {},
     "output_type": "execute_result"
    }
   ],
   "source": [
    "X.shape"
   ]
  },
  {
   "cell_type": "code",
   "execution_count": 35,
   "metadata": {},
   "outputs": [
    {
     "data": {
      "text/plain": [
       "(1450,)"
      ]
     },
     "execution_count": 35,
     "metadata": {},
     "output_type": "execute_result"
    }
   ],
   "source": [
    "Y.shape"
   ]
  },
  {
   "cell_type": "code",
   "execution_count": null,
   "metadata": {},
   "outputs": [
    {
     "name": "stdout",
     "output_type": "stream",
     "text": [
      "Train on 232 samples, validate on 58 samples\n",
      "Epoch 1/50\n",
      "232/232 [==============================] - 94s 403ms/step - loss: 0.5424 - val_loss: 0.0829\n",
      "Epoch 2/50\n",
      "232/232 [==============================] - 91s 392ms/step - loss: 0.0257 - val_loss: 0.0513\n",
      "Epoch 3/50\n",
      "232/232 [==============================] - 91s 393ms/step - loss: 0.0165 - val_loss: 0.0995\n",
      "Epoch 4/50\n",
      "232/232 [==============================] - 92s 395ms/step - loss: 0.0241 - val_loss: 0.0575\n",
      "Epoch 5/50\n",
      "232/232 [==============================] - 91s 392ms/step - loss: 0.0161 - val_loss: 0.1457\n",
      "Epoch 6/50\n",
      "232/232 [==============================] - 91s 394ms/step - loss: 0.0903 - val_loss: 0.0509\n",
      "Epoch 7/50\n",
      "232/232 [==============================] - 91s 393ms/step - loss: 0.0101 - val_loss: 0.0476\n",
      "Epoch 8/50\n",
      "232/232 [==============================] - 92s 397ms/step - loss: 0.0070 - val_loss: 0.0341\n",
      "Epoch 9/50\n",
      "232/232 [==============================] - 91s 392ms/step - loss: 0.0571 - val_loss: 0.0435\n",
      "Epoch 10/50\n",
      "232/232 [==============================] - 92s 396ms/step - loss: 0.0146 - val_loss: 0.0306\n",
      "Epoch 11/50\n",
      "232/232 [==============================] - 91s 391ms/step - loss: 0.0063 - val_loss: 0.0405\n",
      "Epoch 12/50\n",
      "232/232 [==============================] - 92s 396ms/step - loss: 0.0467 - val_loss: 0.1156\n",
      "Epoch 13/50\n",
      "232/232 [==============================] - 92s 394ms/step - loss: 0.0354 - val_loss: 0.0295\n",
      "Epoch 14/50\n",
      "232/232 [==============================] - 92s 395ms/step - loss: 0.0136 - val_loss: 0.0239\n",
      "Epoch 15/50\n",
      "232/232 [==============================] - 91s 392ms/step - loss: 0.0050 - val_loss: 0.0229\n",
      "Epoch 16/50\n",
      "232/232 [==============================] - 92s 395ms/step - loss: 0.0216 - val_loss: 0.1099\n",
      "Epoch 17/50\n",
      "232/232 [==============================] - 92s 398ms/step - loss: 0.0613 - val_loss: 0.0274\n",
      "Epoch 18/50\n",
      "232/232 [==============================] - 93s 400ms/step - loss: 0.0047 - val_loss: 0.0212\n",
      "Epoch 19/50\n",
      "232/232 [==============================] - 92s 397ms/step - loss: 0.0195 - val_loss: 0.0329\n",
      "Epoch 20/50\n",
      "232/232 [==============================] - 91s 392ms/step - loss: 0.0162 - val_loss: 0.0170\n",
      "Epoch 21/50\n",
      "232/232 [==============================] - 91s 394ms/step - loss: 0.0039 - val_loss: 0.0208\n",
      "Epoch 22/50\n",
      "232/232 [==============================] - 92s 398ms/step - loss: 0.0112 - val_loss: 0.0554\n",
      "Epoch 23/50\n",
      "232/232 [==============================] - 92s 398ms/step - loss: 0.0437 - val_loss: 0.0385\n",
      "Epoch 24/50\n",
      "232/232 [==============================] - 93s 401ms/step - loss: 0.0120 - val_loss: 0.0143\n",
      "Epoch 25/50\n",
      "232/232 [==============================] - 95s 409ms/step - loss: 0.0025 - val_loss: 0.0115\n",
      "Epoch 26/50\n",
      "232/232 [==============================] - 92s 398ms/step - loss: 0.0065 - val_loss: 0.0435\n",
      "Epoch 27/50\n",
      "232/232 [==============================] - 91s 394ms/step - loss: 0.0335 - val_loss: 0.0172\n",
      "Epoch 28/50\n",
      "232/232 [==============================] - 93s 401ms/step - loss: 0.0081 - val_loss: 0.0162\n",
      "Epoch 29/50\n",
      "232/232 [==============================] - 94s 405ms/step - loss: 0.0093 - val_loss: 0.0255\n",
      "Epoch 30/50\n",
      "232/232 [==============================] - 91s 393ms/step - loss: 0.0051 - val_loss: 0.0206\n",
      "Epoch 31/50\n",
      "232/232 [==============================] - 90s 388ms/step - loss: 0.0168 - val_loss: 0.0293\n",
      "Epoch 32/50\n",
      "232/232 [==============================] - 93s 399ms/step - loss: 0.0261 - val_loss: 0.0236\n",
      "Epoch 33/50\n",
      "232/232 [==============================] - 92s 399ms/step - loss: 0.0116 - val_loss: 0.0103\n",
      "Epoch 34/50\n",
      "232/232 [==============================] - 94s 407ms/step - loss: 0.0057 - val_loss: 0.0159\n",
      "Epoch 35/50\n",
      "232/232 [==============================] - 94s 406ms/step - loss: 0.0105 - val_loss: 0.0175\n",
      "Epoch 36/50\n",
      "232/232 [==============================] - 93s 401ms/step - loss: 0.0082 - val_loss: 0.0226\n",
      "Epoch 37/50\n",
      "232/232 [==============================] - 92s 398ms/step - loss: 0.0170 - val_loss: 0.0988\n",
      "Epoch 38/50\n",
      "232/232 [==============================] - 92s 397ms/step - loss: 0.0244 - val_loss: 0.0186\n",
      "Epoch 39/50\n",
      "232/232 [==============================] - 91s 394ms/step - loss: 0.0024 - val_loss: 0.0086\n",
      "Epoch 40/50\n",
      "232/232 [==============================] - 90s 389ms/step - loss: 0.0067 - val_loss: 0.0118\n",
      "Epoch 41/50\n",
      "232/232 [==============================] - 93s 400ms/step - loss: 0.0073 - val_loss: 0.0260\n",
      "Epoch 42/50\n",
      "232/232 [==============================] - 96s 413ms/step - loss: 0.0161 - val_loss: 0.0375\n",
      "Epoch 43/50\n",
      "232/232 [==============================] - 100s 432ms/step - loss: 0.0061 - val_loss: 0.0185\n",
      "Epoch 44/50\n",
      "232/232 [==============================] - 101s 435ms/step - loss: 0.0126 - val_loss: 0.0182\n",
      "Epoch 45/50\n",
      "232/232 [==============================] - 101s 436ms/step - loss: 0.0049 - val_loss: 0.0151\n",
      "Epoch 46/50\n",
      "232/232 [==============================] - 101s 435ms/step - loss: 0.0091 - val_loss: 0.0198\n",
      "Epoch 47/50\n",
      "232/232 [==============================] - 100s 431ms/step - loss: 0.0043 - val_loss: 0.0174\n",
      "Epoch 48/50\n",
      "232/232 [==============================] - 100s 429ms/step - loss: 0.0282 - val_loss: 0.0191\n",
      "Epoch 49/50\n",
      "150/232 [==================>...........] - ETA: 35s - loss: 0.0100"
     ]
    }
   ],
   "source": [
    "history = model.fit(trainX,trainY, batch_size=50, epochs=50, validation_split=.2)"
   ]
  },
  {
   "cell_type": "code",
   "execution_count": null,
   "metadata": {},
   "outputs": [],
   "source": []
  }
 ],
 "metadata": {
  "kernelspec": {
   "display_name": "Python 3",
   "language": "python",
   "name": "python3"
  },
  "language_info": {
   "codemirror_mode": {
    "name": "ipython",
    "version": 3
   },
   "file_extension": ".py",
   "mimetype": "text/x-python",
   "name": "python",
   "nbconvert_exporter": "python",
   "pygments_lexer": "ipython3",
   "version": "3.6.5"
  }
 },
 "nbformat": 4,
 "nbformat_minor": 2
}
