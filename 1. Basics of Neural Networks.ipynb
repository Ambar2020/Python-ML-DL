{
 "cells": [
  {
   "cell_type": "code",
   "execution_count": 3,
   "metadata": {},
   "outputs": [],
   "source": [
    "from keras.datasets import fashion_mnist"
   ]
  },
  {
   "cell_type": "code",
   "execution_count": 4,
   "metadata": {},
   "outputs": [],
   "source": [
    "(trainX, trainY), (testX,testY) = fashion_mnist.load_data()"
   ]
  },
  {
   "cell_type": "code",
   "execution_count": 6,
   "metadata": {},
   "outputs": [
    {
     "data": {
      "text/plain": [
       "(60000,)"
      ]
     },
     "execution_count": 6,
     "metadata": {},
     "output_type": "execute_result"
    }
   ],
   "source": [
    "trainY.shape"
   ]
  },
  {
   "cell_type": "markdown",
   "metadata": {},
   "source": [
    "### Noramlizing data"
   ]
  },
  {
   "cell_type": "code",
   "execution_count": 7,
   "metadata": {},
   "outputs": [],
   "source": [
    "trainX = trainX/255.0"
   ]
  },
  {
   "cell_type": "code",
   "execution_count": 14,
   "metadata": {},
   "outputs": [],
   "source": [
    "from keras.utils import to_categorical"
   ]
  },
  {
   "cell_type": "code",
   "execution_count": 15,
   "metadata": {},
   "outputs": [],
   "source": [
    "trainY = to_categorical(trainY)\n",
    "testY = to_categorical(testY)"
   ]
  },
  {
   "cell_type": "code",
   "execution_count": 20,
   "metadata": {},
   "outputs": [],
   "source": [
    "from keras.layers import Dense\n",
    "from keras.models import Sequential"
   ]
  },
  {
   "cell_type": "code",
   "execution_count": 87,
   "metadata": {},
   "outputs": [],
   "source": [
    "def create_model(model_config):\n",
    "    models = []\n",
    "    for name,config in model_config.items():\n",
    "        model = Sequential()\n",
    "        model.add(Dense(config[0][1], input_dim=784, activation='relu'))\n",
    "        for num,nodes in config[1:]:\n",
    "            model.add(Dense(nodes, activation='relu'))\n",
    "        model.add(Dense(10, activation='softmax'))\n",
    "        models.append(model)\n",
    "    return models\n",
    "    "
   ]
  },
  {
   "cell_type": "code",
   "execution_count": 91,
   "metadata": {},
   "outputs": [],
   "source": [
    "model_config = {\n",
    "    'A':[(1,700),(2,128)],\n",
    "    'B':[(1,256),(2,128),(3,64),(4,32)]\n",
    "}"
   ]
  },
  {
   "cell_type": "code",
   "execution_count": 92,
   "metadata": {},
   "outputs": [],
   "source": [
    "models = create_model(model_config)"
   ]
  },
  {
   "cell_type": "code",
   "execution_count": 93,
   "metadata": {},
   "outputs": [
    {
     "name": "stdout",
     "output_type": "stream",
     "text": [
      "_________________________________________________________________\n",
      "Layer (type)                 Output Shape              Param #   \n",
      "=================================================================\n",
      "dense_41 (Dense)             (None, 700)               549500    \n",
      "_________________________________________________________________\n",
      "dense_42 (Dense)             (None, 128)               89728     \n",
      "_________________________________________________________________\n",
      "dense_43 (Dense)             (None, 10)                1290      \n",
      "=================================================================\n",
      "Total params: 640,518\n",
      "Trainable params: 640,518\n",
      "Non-trainable params: 0\n",
      "_________________________________________________________________\n"
     ]
    }
   ],
   "source": [
    "models[0].summary()"
   ]
  },
  {
   "cell_type": "code",
   "execution_count": 94,
   "metadata": {},
   "outputs": [
    {
     "name": "stdout",
     "output_type": "stream",
     "text": [
      "_________________________________________________________________\n",
      "Layer (type)                 Output Shape              Param #   \n",
      "=================================================================\n",
      "dense_44 (Dense)             (None, 256)               200960    \n",
      "_________________________________________________________________\n",
      "dense_45 (Dense)             (None, 128)               32896     \n",
      "_________________________________________________________________\n",
      "dense_46 (Dense)             (None, 64)                8256      \n",
      "_________________________________________________________________\n",
      "dense_47 (Dense)             (None, 32)                2080      \n",
      "_________________________________________________________________\n",
      "dense_48 (Dense)             (None, 10)                330       \n",
      "=================================================================\n",
      "Total params: 244,522\n",
      "Trainable params: 244,522\n",
      "Non-trainable params: 0\n",
      "_________________________________________________________________\n"
     ]
    }
   ],
   "source": [
    "models[1].summary()"
   ]
  },
  {
   "cell_type": "code",
   "execution_count": 95,
   "metadata": {},
   "outputs": [],
   "source": [
    "trainX = trainX.reshape(60000,784)"
   ]
  },
  {
   "cell_type": "code",
   "execution_count": 96,
   "metadata": {},
   "outputs": [],
   "source": [
    "testX = testX.reshape(10000,784)"
   ]
  },
  {
   "cell_type": "code",
   "execution_count": null,
   "metadata": {},
   "outputs": [],
   "source": []
  },
  {
   "cell_type": "code",
   "execution_count": null,
   "metadata": {},
   "outputs": [],
   "source": []
  },
  {
   "cell_type": "code",
   "execution_count": 102,
   "metadata": {},
   "outputs": [
    {
     "name": "stdout",
     "output_type": "stream",
     "text": [
      "Train on 48000 samples, validate on 12000 samples\n",
      "Epoch 1/10\n",
      " - 4s - loss: 0.1257 - acc: 0.9552 - val_loss: 0.3207 - val_acc: 0.8960\n",
      "Epoch 2/10\n",
      " - 3s - loss: 0.1252 - acc: 0.9548 - val_loss: 0.3201 - val_acc: 0.8952\n",
      "Epoch 3/10\n",
      " - 3s - loss: 0.1248 - acc: 0.9556 - val_loss: 0.3215 - val_acc: 0.8952\n",
      "Epoch 4/10\n",
      " - 3s - loss: 0.1244 - acc: 0.9556 - val_loss: 0.3212 - val_acc: 0.8958\n",
      "Epoch 5/10\n",
      " - 3s - loss: 0.1241 - acc: 0.9560 - val_loss: 0.3210 - val_acc: 0.8950\n",
      "Epoch 6/10\n",
      " - 3s - loss: 0.1237 - acc: 0.9555 - val_loss: 0.3221 - val_acc: 0.8957\n",
      "Epoch 7/10\n",
      " - 3s - loss: 0.1234 - acc: 0.9564 - val_loss: 0.3223 - val_acc: 0.8963\n",
      "Epoch 8/10\n",
      " - 3s - loss: 0.1231 - acc: 0.9561 - val_loss: 0.3231 - val_acc: 0.8951\n",
      "Epoch 9/10\n",
      " - 3s - loss: 0.1227 - acc: 0.9558 - val_loss: 0.3231 - val_acc: 0.8952\n",
      "Epoch 10/10\n",
      " - 3s - loss: 0.1224 - acc: 0.9565 - val_loss: 0.3236 - val_acc: 0.8962\n",
      "Train on 48000 samples, validate on 12000 samples\n",
      "Epoch 1/10\n",
      " - 2s - loss: 0.1371 - acc: 0.9499 - val_loss: 0.3165 - val_acc: 0.8968\n",
      "Epoch 2/10\n",
      " - 2s - loss: 0.1367 - acc: 0.9499 - val_loss: 0.3217 - val_acc: 0.8962\n",
      "Epoch 3/10\n",
      " - 2s - loss: 0.1365 - acc: 0.9505 - val_loss: 0.3193 - val_acc: 0.8961\n",
      "Epoch 4/10\n",
      " - 2s - loss: 0.1354 - acc: 0.9508 - val_loss: 0.3192 - val_acc: 0.8959\n",
      "Epoch 5/10\n",
      " - 2s - loss: 0.1349 - acc: 0.9507 - val_loss: 0.3225 - val_acc: 0.8962\n",
      "Epoch 6/10\n",
      " - 2s - loss: 0.1347 - acc: 0.9508 - val_loss: 0.3218 - val_acc: 0.8972\n",
      "Epoch 7/10\n",
      " - 2s - loss: 0.1341 - acc: 0.9515 - val_loss: 0.3212 - val_acc: 0.8965\n",
      "Epoch 8/10\n",
      " - 2s - loss: 0.1335 - acc: 0.9516 - val_loss: 0.3223 - val_acc: 0.8971\n",
      "Epoch 9/10\n",
      " - 2s - loss: 0.1333 - acc: 0.9510 - val_loss: 0.3231 - val_acc: 0.8967\n",
      "Epoch 10/10\n",
      " - 2s - loss: 0.1330 - acc: 0.9517 - val_loss: 0.3229 - val_acc: 0.8967\n"
     ]
    }
   ],
   "source": [
    "history = []\n",
    "for model in models:\n",
    "    model.compile(loss='categorical_crossentropy', optimizer='sgd', metrics=['accuracy'])\n",
    "    history = model.fit(trainX,trainY,validation_split=.2, epochs=10, batch_size=256, verbose=2)"
   ]
  },
  {
   "cell_type": "code",
   "execution_count": 108,
   "metadata": {},
   "outputs": [
    {
     "data": {
      "text/plain": [
       "array([9, 2, 1, ..., 8, 1, 5], dtype=int64)"
      ]
     },
     "execution_count": 108,
     "metadata": {},
     "output_type": "execute_result"
    }
   ],
   "source": [
    "import numpy as np\n",
    "np.argmax(models[0].predict(testX.reshape(10000,784)),axis=1)"
   ]
  },
  {
   "cell_type": "code",
   "execution_count": 115,
   "metadata": {},
   "outputs": [],
   "source": [
    "m = models[0]"
   ]
  },
  {
   "cell_type": "code",
   "execution_count": null,
   "metadata": {},
   "outputs": [],
   "source": [
    "m.predict_proba()"
   ]
  }
 ],
 "metadata": {
  "kernelspec": {
   "display_name": "Python 3",
   "language": "python",
   "name": "python3"
  },
  "language_info": {
   "codemirror_mode": {
    "name": "ipython",
    "version": 3
   },
   "file_extension": ".py",
   "mimetype": "text/x-python",
   "name": "python",
   "nbconvert_exporter": "python",
   "pygments_lexer": "ipython3",
   "version": "3.6.5"
  }
 },
 "nbformat": 4,
 "nbformat_minor": 2
}
