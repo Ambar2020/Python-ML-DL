{
 "cells": [
  {
   "cell_type": "code",
   "execution_count": null,
   "metadata": {},
   "outputs": [],
   "source": [
    "num1 = 257\n",
    "num2 = 257\n",
    "print(num1 == num2)\n",
    "print(num1 is not num2)\n",
    "print(id(num1),id(num2))"
   ]
  },
  {
   "cell_type": "markdown",
   "metadata": {},
   "source": [
    "Mutable :\n",
    "    list \n",
    "    dict\n",
    "    set \n",
    "    \n",
    "Immutable  :\n",
    "    tuple \n",
    "    int \n",
    "    float \n",
    "    bool "
   ]
  },
  {
   "cell_type": "code",
   "execution_count": null,
   "metadata": {},
   "outputs": [],
   "source": [
    "l1 = [10,20,30]\n",
    "l2 = [10,20,30]\n",
    "print(id(l1),id(l2))"
   ]
  },
  {
   "cell_type": "code",
   "execution_count": null,
   "metadata": {},
   "outputs": [],
   "source": [
    "d = {10:100,20:400,30:500}\n",
    "print( 100 in d)"
   ]
  },
  {
   "cell_type": "code",
   "execution_count": null,
   "metadata": {},
   "outputs": [],
   "source": [
    "l = [10,20,30,40,50]\n",
    "print(20 in l)"
   ]
  },
  {
   "cell_type": "code",
   "execution_count": null,
   "metadata": {},
   "outputs": [],
   "source": [
    "print(10 in 100)"
   ]
  },
  {
   "cell_type": "code",
   "execution_count": null,
   "metadata": {},
   "outputs": [],
   "source": [
    "Iterable :\n",
    "    str \n",
    "    list \n",
    "    dict \n",
    "    tuple \n",
    "    set \n",
    "Not iterable :\n",
    "    int \n",
    "    float \n",
    "    bool"
   ]
  },
  {
   "cell_type": "code",
   "execution_count": null,
   "metadata": {},
   "outputs": [],
   "source": [
    "num1 = 600\n",
    "num2 = 400\n",
    "\n",
    "if num1 > num2 :\n",
    "    print(\"num1 is greater\")\n",
    "    print(\"Just another statement\")\n",
    "elif num2 > num1 :\n",
    "    print(\"num2 is greater\")\n",
    "else:\n",
    "    print(\"Both are equal\")\n",
    "\n",
    "\n"
   ]
  },
  {
   "cell_type": "code",
   "execution_count": null,
   "metadata": {},
   "outputs": [],
   "source": [
    "if \"Hi\":\n",
    "    print(\"Python\")\n",
    "else:\n",
    "    print(\"Java\")"
   ]
  },
  {
   "cell_type": "code",
   "execution_count": null,
   "metadata": {},
   "outputs": [],
   "source": [
    "l = [10,20,30,40,50,60]\n",
    "key = 40\n",
    "\n",
    "for value in l:\n",
    "    if value == key :\n",
    "        print(\"Element is present\")\n",
    "        break\n",
    "   \n",
    "else:\n",
    "    print(\"Element not present\")"
   ]
  },
  {
   "cell_type": "code",
   "execution_count": null,
   "metadata": {},
   "outputs": [],
   "source": [
    "num1 = 29 \n",
    "sum = 0\n",
    "for value in range(1,num1):\n",
    "    if num1 % value == 0:\n",
    "        sum = sum + value\n",
    "        \n",
    "if sum == num1:\n",
    "    print(\"Perfect number\")\n",
    "else:\n",
    "    print(\"Not a perfect number\")"
   ]
  },
  {
   "cell_type": "code",
   "execution_count": null,
   "metadata": {},
   "outputs": [],
   "source": [
    "l = [70,60,50,40,30,20,10]\n",
    "count =0\n",
    "while(count <= len(l)):\n",
    "    for index,value in enumerate(l[:-1]):\n",
    "        if l[index] > l[index + 1]:\n",
    "            l[index],l[index+1] = l[index+1],l[index]\n",
    "    count+=1\n",
    "print(l)\n",
    " "
   ]
  },
  {
   "cell_type": "code",
   "execution_count": null,
   "metadata": {},
   "outputs": [],
   "source": [
    "range(50): 0.... 49 \n",
    "range(10,50) 10...49\n",
    "range(10,50,5) 10 15 20 ...... 45"
   ]
  },
  {
   "cell_type": "markdown",
   "metadata": {},
   "source": [
    "## Str:\n",
    "> - immutable - no methods to add update and delete \n",
    "> - ordered indexing and slicing \n",
    "> - Iterable "
   ]
  },
  {
   "cell_type": "code",
   "execution_count": null,
   "metadata": {},
   "outputs": [],
   "source": [
    "s = \"Python sample string\"\n",
    "print(s[-1])\n",
    "print(s[0:6])\n",
    "print(s[7:])\n",
    "print(s[0:7:-1])"
   ]
  },
  {
   "cell_type": "code",
   "execution_count": null,
   "metadata": {},
   "outputs": [],
   "source": [
    "num1 = 300\n",
    "num2 = 200\n",
    "\n",
    "s = \"value of num1 is {val1} and value of num2 is {val2}\".format(val1=num1,val2=num2)\n",
    "print(s)"
   ]
  },
  {
   "cell_type": "code",
   "execution_count": null,
   "metadata": {},
   "outputs": [],
   "source": [
    "s = \"Python\"\n",
    "print(id(s))\n",
    "s = \"java\"\n",
    "print(id(s))"
   ]
  },
  {
   "cell_type": "code",
   "execution_count": null,
   "metadata": {},
   "outputs": [],
   "source": [
    "s = \"Python,Java,C++,C\"\n",
    "l = s.split(\" \")\n",
    "print(l)\n",
    "l2 = l[::-1]\n",
    "print(l2)\n",
    "\n",
    "s1 = (\",\").join(l2)\n",
    "print(s1)\n"
   ]
  },
  {
   "cell_type": "code",
   "execution_count": null,
   "metadata": {},
   "outputs": [],
   "source": [
    "s= \"Python,Python,PythonJava,C,C\"\n",
    "print(s.find(\"\"))\n",
    "print(s.rfind(\"Python\"))"
   ]
  },
  {
   "cell_type": "code",
   "execution_count": null,
   "metadata": {},
   "outputs": [],
   "source": [
    "s = \"****Python******\"\n",
    "print(s.strip(\"*\"))"
   ]
  },
  {
   "cell_type": "code",
   "execution_count": null,
   "metadata": {},
   "outputs": [],
   "source": [
    "dir(str)"
   ]
  },
  {
   "cell_type": "code",
   "execution_count": null,
   "metadata": {},
   "outputs": [],
   "source": [
    "s= \"Python sample string abcdef\"\n",
    "\n",
    "s1 = \"abcd\"\n",
    "s2 =\"1234\"\n",
    "\n",
    "d = {'a':\"1\",'d':\"4\"}\n",
    "map = str.maketrans(d)\n",
    "final = s.translate(map)\n",
    "print(final)\n"
   ]
  },
  {
   "cell_type": "code",
   "execution_count": null,
   "metadata": {},
   "outputs": [],
   "source": [
    "s = \"Python3 and Python 3\"\n",
    "l = s.partition(\"and\")\n",
    "print(l)\n"
   ]
  },
  {
   "cell_type": "markdown",
   "metadata": {},
   "source": [
    "## List \n",
    "> - Mutable add,update and delete\n",
    "> - Ordered indexing and slicing \n",
    "> - Iterable"
   ]
  },
  {
   "cell_type": "code",
   "execution_count": null,
   "metadata": {},
   "outputs": [],
   "source": [
    "s= \"Python sample string\"\n",
    "for value in s:\n",
    "    print(value)"
   ]
  },
  {
   "cell_type": "code",
   "execution_count": null,
   "metadata": {},
   "outputs": [],
   "source": [
    "l = [10,20,30,40,50,60]\n",
    "# l.append([70,60])\n",
    "# print(l[-1][-1])\n",
    "# l.extend([\"Python\"])\n",
    "# print(l)\n",
    "\n",
    "l.insert(2,200)\n",
    "print(l)"
   ]
  },
  {
   "cell_type": "code",
   "execution_count": null,
   "metadata": {},
   "outputs": [],
   "source": [
    "l = [[1,2,3],[4,5,6],[7,8,9]]\n",
    "# l2 = [1,2,3,4,5,6,7,8,9]\n",
    "l2 = []\n",
    "# for value in l:\n",
    "#      print(value)\n",
    "#     for val1 in value:\n",
    "#       l2.append(val1) \n",
    "\n",
    "# for value in l:\n",
    "#     l2.extend(value)\n",
    "# print(l2)"
   ]
  },
  {
   "cell_type": "code",
   "execution_count": null,
   "metadata": {},
   "outputs": [],
   "source": [
    "# l2 = [[1,4,7],[2,5,8],[3,6,9]]\n",
    "l = [[1,2,3],[4,5,6],[7,8,9]]\n",
    "# 1 2 3 0 \n",
    "# 4 5 6 0\n",
    "# 7 8 9 0\n",
    "\n",
    "# 1 2 3 1 \n",
    "# 4 5 6 1\n",
    "# 7 8 9 1\n",
    "\n",
    "# 1 2 3 2 \n",
    "# 4 5 6 2\n",
    "# 7 8 9 2\n",
    "l2 = []\n",
    "for index in range(len(l[0])):\n",
    "    l4 = []\n",
    "    for value in l:\n",
    "#         print(value[index])\n",
    "        l4.append(value[index])\n",
    "    l2.append(l4)    \n",
    "print(l2)    \n",
    "    \n"
   ]
  },
  {
   "cell_type": "code",
   "execution_count": null,
   "metadata": {},
   "outputs": [],
   "source": [
    "l = [10,20,30,40]\n",
    "print(id(l))\n",
    "l[2] = 100\n",
    "print(l)\n",
    "print(id(l))"
   ]
  },
  {
   "cell_type": "code",
   "execution_count": null,
   "metadata": {},
   "outputs": [],
   "source": [
    "Delete : \n",
    "    pop\n",
    "    remove \n",
    "    clear \n",
    "    del "
   ]
  },
  {
   "cell_type": "code",
   "execution_count": null,
   "metadata": {},
   "outputs": [],
   "source": [
    "l = [10,20,30]\n",
    "# r = l.pop(1)\n",
    "# print(l,r)\n",
    "\n",
    "l.remove(20)\n",
    "print(l)\n",
    "\n",
    "l.clear()\n",
    "print(l)\n",
    "\n",
    "del l\n",
    "print(l)\n",
    "\n"
   ]
  },
  {
   "cell_type": "code",
   "execution_count": null,
   "metadata": {},
   "outputs": [],
   "source": [
    "l1 = [10,20,30]\n",
    "l2 = l1\n",
    "l1.append(40)\n",
    "print(l1,l2)\n",
    "print(id(l1),id(l2))"
   ]
  },
  {
   "cell_type": "code",
   "execution_count": null,
   "metadata": {},
   "outputs": [],
   "source": [
    "print(dir(list))"
   ]
  },
  {
   "cell_type": "code",
   "execution_count": null,
   "metadata": {},
   "outputs": [],
   "source": [
    "l1 = [10,20,30,40,10,20,30]\n",
    "l2 = [100,20,10,10,30,45,50]\n",
    "\n",
    "# single sorted unique list \n",
    "l3 = l1 + l2 \n",
    "l3.sort()\n",
    "print(l3)\n",
    "\n",
    "l4 = []\n",
    "\n",
    "for value in l3:\n",
    "    if value not in l4:\n",
    "        l4.append(value)\n",
    "print(l4)"
   ]
  },
  {
   "cell_type": "code",
   "execution_count": null,
   "metadata": {},
   "outputs": [],
   "source": [
    "l = [10,20,30,40,50]\n",
    "l2 = [value*value for value in l]\n",
    "print(l2)"
   ]
  },
  {
   "cell_type": "code",
   "execution_count": null,
   "metadata": {},
   "outputs": [],
   "source": [
    "c = ['absd','eerere','wewewe','wewewewe']\n",
    "l = [len(value) for value in c]\n",
    "print(l)"
   ]
  },
  {
   "cell_type": "code",
   "execution_count": null,
   "metadata": {},
   "outputs": [],
   "source": [
    "l = [20,25,30,35,40,45,50,55]\n",
    "l2 = [value for value in l if value %2 ==0 ]\n",
    "print(l2)"
   ]
  },
  {
   "cell_type": "code",
   "execution_count": null,
   "metadata": {},
   "outputs": [],
   "source": [
    "l = [12,14,15,13,25,30,35,40,55]\n",
    "\n",
    "l2 = [\"Even\" if value%2 == 0 else \"Odd\" for value in l if value %5 == 0]\n",
    "print(l2)"
   ]
  },
  {
   "cell_type": "code",
   "execution_count": null,
   "metadata": {},
   "outputs": [],
   "source": [
    "l = [(val1,val2)for val1 in range(10,15) for val2 in range(100,105)]\n",
    "print(l)"
   ]
  },
  {
   "cell_type": "code",
   "execution_count": null,
   "metadata": {},
   "outputs": [],
   "source": [
    "l = [[1,2,3],[4,5,6],[7,8,9]]\n",
    "l2 = [val2 for value in l for val2 in value]\n",
    "print(l2)"
   ]
  },
  {
   "cell_type": "code",
   "execution_count": null,
   "metadata": {},
   "outputs": [],
   "source": [
    "# l = [[1,2,3],[4,5,6],[7,8,9]]\n",
    "# # l2 = [val2 for value in l for val2 in value]\n",
    "# # l2 = [[value[index] for value in l] for index in range(len(l[0]))]\n",
    "# l2 = [[value[1] for value in l] for index in range(len(l[0]))]\n",
    "# print(l2)\n"
   ]
  },
  {
   "cell_type": "markdown",
   "metadata": {},
   "source": [
    "## Tuple\n",
    "> - Immutable no methods to add update and delete  \n",
    "> - Ordered indexing and slicing "
   ]
  },
  {
   "cell_type": "code",
   "execution_count": null,
   "metadata": {},
   "outputs": [],
   "source": [
    "t = (10,20,30,40)\n",
    "print(type(t))"
   ]
  },
  {
   "cell_type": "code",
   "execution_count": null,
   "metadata": {},
   "outputs": [],
   "source": [
    "l = [10,20,30,40,50]\n",
    "\n",
    "for i,j in enumerate(l):\n",
    "    print(i)\n"
   ]
  },
  {
   "cell_type": "markdown",
   "metadata": {},
   "source": [
    "## Dict\n",
    "\n",
    "> - Mutable - Add update and delete \n",
    "> - Unordered - No indexing and slicing \n",
    "> - All keys should be unique\n",
    "> - All keys should be immutable"
   ]
  },
  {
   "cell_type": "code",
   "execution_count": null,
   "metadata": {},
   "outputs": [],
   "source": [
    "d = {\"name\":\"ABC\",\"email\":\"abc@gmail.com\",\"sal\":55000}\n",
    "# print(d['age'])\n",
    "# print(d.get('age',-1))\n",
    "\n",
    "print(d.setdefault(\"age\",30))\n",
    "print(d)"
   ]
  },
  {
   "cell_type": "code",
   "execution_count": null,
   "metadata": {},
   "outputs": [],
   "source": [
    "# d = {'a':97.'b':98........'z':122}\n",
    "# print(ord('a'))\n",
    "# print(chr(97))\n",
    "\n",
    "\n",
    "d = {}\n",
    "\n",
    "for value in range(97,123):\n",
    "    d.setdefault(chr(value),value)    \n",
    "print(d)"
   ]
  },
  {
   "cell_type": "code",
   "execution_count": null,
   "metadata": {},
   "outputs": [],
   "source": [
    "d ={chr(value): value  for value in range(97,123)}\n",
    "print(d)"
   ]
  },
  {
   "cell_type": "code",
   "execution_count": null,
   "metadata": {},
   "outputs": [],
   "source": [
    "l1 =[10,20,30,40,50,60,70,80]\n",
    "l2 = [100,200,300,400,500,600]\n",
    "\n",
    "for value in zip(l1,l2):\n",
    "    print(value)"
   ]
  },
  {
   "cell_type": "code",
   "execution_count": null,
   "metadata": {},
   "outputs": [],
   "source": [
    "# d = {(1,10):0,(11,20):0,(21:30):0.... (91,100):0}\n",
    "l = [15,20,30,12,45,1]\n",
    "d = {value:0 for value in zip(range(1,100,10),range(10,101,10))}\n",
    "# print(d)\n",
    "# for key in d:\n",
    "    \n",
    "for value in l:\n",
    "    for key in d:\n",
    "        if key[0] <= value and key[1] >= value:\n",
    "            d[key] = d[key] + 1 \n",
    "            \n",
    "print(d)"
   ]
  },
  {
   "cell_type": "code",
   "execution_count": null,
   "metadata": {},
   "outputs": [],
   "source": [
    "l1 = [1,2,3,4,5]\n",
    "l2 = [1,4,9,16,25]\n",
    "l3 = dict(zip(l1,l2))\n",
    "print(l3)"
   ]
  },
  {
   "cell_type": "code",
   "execution_count": null,
   "metadata": {},
   "outputs": [],
   "source": [
    "l = [10,20,30,40,50]\n",
    "d = dict.fromkeys(l,20)\n",
    "print(d)\n"
   ]
  },
  {
   "cell_type": "markdown",
   "metadata": {},
   "source": [
    "Delete :\n",
    "    popitem\n",
    "    pop\n",
    "    clear\n",
    "    del"
   ]
  },
  {
   "cell_type": "code",
   "execution_count": null,
   "metadata": {},
   "outputs": [],
   "source": [
    "# d = {10:1,20:4,30:9,40:16,50:25}\n",
    "# r = d.pop(10)\n",
    "# print(d,r)\n",
    "\n",
    "# print(d.keys())\n",
    "# print(d.values())\n",
    "# print(d.items())\n",
    "\n",
    "# r = d.popitem()\n",
    "# print(d,r)\n",
    "\n",
    "\n",
    "# d.clear()\n",
    "\n",
    "# del d\n",
    "# print(d)"
   ]
  },
  {
   "cell_type": "code",
   "execution_count": null,
   "metadata": {},
   "outputs": [],
   "source": [
    "d = {\"ABC\":'5.0,4.2,5,3,3',\"PQR\":'4,4,5,5,3',\"xyz\":'2,2,2,2,2'}\n",
    "d1 = {}\n",
    "for key,value in d.items():\n",
    "#     print(key,value)\n",
    "    sum = 0\n",
    "    l = value.split(\",\")\n",
    "#     print(l)\n",
    "    for num in l:\n",
    "        sum = sum + float(num)\n",
    "#     print(sum/len(l))\n",
    "    d1.setdefault(key,sum/len(l))\n",
    "print(d1)    "
   ]
  },
  {
   "cell_type": "markdown",
   "metadata": {},
   "source": [
    "## Set\n",
    "> - Mutable - add update and delete\n",
    "> - Unordered - no indexing and slicing \n",
    "> - All the elements should be unique\n",
    "> - All elemnts should be immutable "
   ]
  },
  {
   "cell_type": "code",
   "execution_count": null,
   "metadata": {},
   "outputs": [],
   "source": [
    "s = {10,20,30,40,10,20}\n",
    "# s = set()\n",
    "print((s))"
   ]
  },
  {
   "cell_type": "code",
   "execution_count": null,
   "metadata": {},
   "outputs": [],
   "source": [
    "s1 = {10,20,30,40,50}\n",
    "s2 = {30,40,50,60,70,80}\n",
    "\n",
    "# s3 = s1.union(s2)\n",
    "# print(s3)\n",
    "\n",
    "# s1.update(s2)\n",
    "# print(s1)\n",
    "\n",
    "# s3 = s1.intersection(s2)\n",
    "# print(s3)\n",
    "\n",
    "# s1.intersection_update(s2)\n",
    "# print(s1)\n",
    "\n",
    "# s3 = s1.difference(s2)\n",
    "# print(s3)\n",
    "\n",
    "# s3 = s1.symmetric_difference(s2)\n",
    "# print(s3)"
   ]
  },
  {
   "cell_type": "code",
   "execution_count": null,
   "metadata": {},
   "outputs": [],
   "source": [
    "l1 = [10,20,30,40,10,20,30]\n",
    "l2 = [10,20,35,45,10,20,30]\n",
    "s1 = set(l1)\n",
    "s2 = set(l2)\n",
    "s3 = s1.union(s2)\n",
    "print(s3)\n",
    "l3 = sorted(s3)\n",
    "print(l3)"
   ]
  },
  {
   "cell_type": "code",
   "execution_count": 1,
   "metadata": {},
   "outputs": [
    {
     "name": "stdout",
     "output_type": "stream",
     "text": [
      "250\n"
     ]
    }
   ],
   "source": [
    "def add(*args):\n",
    "    return (sum(args))\n",
    "result = add(10,20,30,40,50,60,40)\n",
    "print(result)\n",
    "# result = add(10,20,30,40)\n",
    "# result = add(10,20,30,40,50,60)\n",
    "# print(result)\n",
    "# help(print)\n",
    "# print(10,20,sep=\",\",end =\" \")\n",
    "# print(\"Hi\")"
   ]
  },
  {
   "cell_type": "markdown",
   "metadata": {},
   "source": [
    "# Parameter Passing techniques:\n",
    "> 1. Positional args\n",
    "> 2. Default argsb\n",
    "> 3. Variable length Positional args\n",
    "> 4. Keyword "
   ]
  },
  {
   "cell_type": "code",
   "execution_count": 3,
   "metadata": {},
   "outputs": [
    {
     "name": "stdout",
     "output_type": "stream",
     "text": [
      "[111, 222, 333, 444, 555]\n",
      "[222, 444, 666, 888, 1110]\n"
     ]
    }
   ],
   "source": [
    "def add(*args):\n",
    "    l4 = []\n",
    "    for index in range(len(args[0])):\n",
    "        sum1 = 0\n",
    "        for value in args:\n",
    "            sum1 = sum1 +value[index]\n",
    "        l4.append(sum1)\n",
    "    return l4\n",
    "\n",
    "l1 = [10,20,30,40,50]\n",
    "l2 = [100,200,300,400,500]\n",
    "l3 =[1,2,3,4,5]\n",
    "\n",
    "l4 = add(l1,l2,l3)\n",
    "print(l4)\n",
    "l5 = add(l1,l2,l3,l4)\n",
    "print(l5)"
   ]
  },
  {
   "cell_type": "code",
   "execution_count": 12,
   "metadata": {},
   "outputs": [
    {
     "name": "stdout",
     "output_type": "stream",
     "text": [
      "() {'password': 'ABC@123', 'username': 'ABC'}\n",
      "Valid\n"
     ]
    }
   ],
   "source": [
    "def user_auth(num1,num2,*args,**kwargs):\n",
    "    print(args,kwargs)\n",
    "    if kwargs['username'] == \"ABC\" and kwargs['password'] == \"ABC@123\":\n",
    "        print(\"Valid\")\n",
    "    else:\n",
    "        print(\"Invalid\")\n",
    "# user_auth(\"ABC\",\"ABC@123\")\n",
    "user_auth(10,20,password = \"ABC@123\",username = \"ABC\")"
   ]
  },
  {
   "cell_type": "code",
   "execution_count": 13,
   "metadata": {},
   "outputs": [
    {
     "name": "stdout",
     "output_type": "stream",
     "text": [
      "120\n"
     ]
    }
   ],
   "source": [
    "def fact(num):\n",
    "    if num == 1:\n",
    "        return 1\n",
    "    else : \n",
    "        return num * fact(num-1)\n",
    "\n",
    "print(fact(5))\n",
    "\n",
    "5 = return 5 * 24 = 120 \n",
    "            return 4 * 6 =24\n",
    "                return 3 * 2 =6\n",
    "                    return 2 * 1 = 2\n",
    "                                return 1 \n"
   ]
  },
  {
   "cell_type": "code",
   "execution_count": 18,
   "metadata": {},
   "outputs": [
    {
     "name": "stdout",
     "output_type": "stream",
     "text": [
      "False\n"
     ]
    }
   ],
   "source": [
    "def binary_search(l,key):\n",
    "    if len(l) == 0:\n",
    "        return False\n",
    "    else:\n",
    "        mid = len(l) // 2\n",
    "        if key == l[mid]:\n",
    "            return True\n",
    "        elif key < l[mid]:\n",
    "            return binary_search(l[0:mid],key)\n",
    "        else:\n",
    "            return binary_search(l[mid+1:],key)\n",
    "\n",
    "l = [10,20,30,40,50,60]\n",
    "key = 500\n",
    "print(binary_search(l,key))\n",
    "\n",
    "\n",
    "# bs(l,key): \n",
    "#     bs(50,60)\n",
    "#         bs(50)\n",
    "#             return True\n",
    "\n",
    "\n",
    "# mid = len / 2 \n",
    "#     50 == 40 True\n",
    "    \n",
    "#     if key < mid \n",
    "#         l = [10,20,30] key = 50\n",
    "#     key > mid\n",
    "#         l = [50,60] key = 50\n",
    "#         mid  = 60 60 == 50 \n",
    "        \n",
    "        \n",
    "#         [50] = 50\n",
    "        \n"
   ]
  },
  {
   "cell_type": "code",
   "execution_count": 90,
   "metadata": {},
   "outputs": [
    {
     "name": "stdout",
     "output_type": "stream",
     "text": [
      "Bh!26072\n",
      "['2', '2', '0', 'B', '!', 'h', '6', '7']\n",
      "220B!h67\n"
     ]
    }
   ],
   "source": [
    "import random\n",
    "# print(random.random())\n",
    "# l = [1,2,3,4,5,6]\n",
    "# print(random.choice(l))\n",
    "\n",
    "# print(random.randint(10,50))\n",
    "# print(random.randrange(10,50,5))\n",
    "# print(random.uniform(10,50))\n",
    "\n",
    "# 8 Char default pass \n",
    "# 1 Uppercase \n",
    "# 1 lower \n",
    "# 1 special \n",
    "# 5 digits \n",
    "\n",
    "def gen_pass():\n",
    "    upper = chr(random.randint(ord('A'),ord('Z')))\n",
    "    lower = chr(random.randint(ord('a'),ord('z')))\n",
    "    l1 = ['!','@','#','$','%']\n",
    "    special = random.choice(l1)\n",
    "    digits = str(random.randint(10000,99999))\n",
    "    \n",
    "    password = upper + lower + special + digits\n",
    "    print(password)\n",
    "    l2 = random.sample(password,8)\n",
    "    print(l2)\n",
    "    new_pass = (\"\").join(l2)\n",
    "    \n",
    "    return new_pass\n",
    "\n",
    "print(gen_pass())\n",
    "\n"
   ]
  },
  {
   "cell_type": "code",
   "execution_count": 101,
   "metadata": {},
   "outputs": [
    {
     "name": "stdout",
     "output_type": "stream",
     "text": [
      "1\n",
      "1\n",
      "2\n",
      "3\n",
      "5\n",
      "8\n",
      "13\n",
      "21\n",
      "34\n",
      "1\n"
     ]
    }
   ],
   "source": [
    "def fibo():\n",
    "    first_num = 0\n",
    "    sec_num = 1 \n",
    "    yield sec_num\n",
    "    \n",
    "    while(True):\n",
    "        next_val = first_num + sec_num\n",
    "        yield next_val\n",
    "        \n",
    "        first_num,sec_num = sec_num,next_val\n",
    "g = fibo()\n",
    "# print(g)\n",
    "print(next(g))\n",
    "print(next(g))\n",
    "print(next(g))\n",
    "print(next(g))\n",
    "\n",
    "for value in range(5):\n",
    "    print(next(g))\n",
    "    \n",
    "f = fibo()\n",
    "print(next(f))"
   ]
  },
  {
   "cell_type": "code",
   "execution_count": 105,
   "metadata": {},
   "outputs": [
    {
     "name": "stdout",
     "output_type": "stream",
     "text": [
      "10\n",
      "20\n",
      "30\n",
      "40\n",
      "50\n"
     ]
    }
   ],
   "source": [
    "def printVal(l):\n",
    "    for value in l:\n",
    "        yield value\n",
    "    \n",
    "l = [10,20,30,40,50]\n",
    "g = printVal(l)\n",
    "# print(next(g))\n",
    "# print(next(g))\n",
    "# print(next(g))\n",
    "# print(next(g))\n",
    "# print(next(g))\n",
    "# print(next(g))\n",
    "\n",
    "for value in g:\n",
    "    print(value)\n"
   ]
  },
  {
   "cell_type": "code",
   "execution_count": 108,
   "metadata": {},
   "outputs": [
    {
     "name": "stdout",
     "output_type": "stream",
     "text": [
      "100\n"
     ]
    }
   ],
   "source": [
    "l = [10,20,30,40,50,60]\n",
    "l2 = (value * value for value in l)\n",
    "print(next(l2))"
   ]
  },
  {
   "cell_type": "code",
   "execution_count": 122,
   "metadata": {},
   "outputs": [
    {
     "name": "stdout",
     "output_type": "stream",
     "text": [
      "[210, 321, 432, 543, 654]\n"
     ]
    }
   ],
   "source": [
    "# def sqr(num):\n",
    "#     return num * num\n",
    "\n",
    "# l = [10,20,30,40,50]\n",
    "# l2 = list(map(lambda num:num*num,l))\n",
    "# print(l2)\n",
    "\n",
    "\n",
    "# def add_index(num1,num2,num3):\n",
    "#     print(num1,num2,num3)\n",
    "#     return num1+num2+num3\n",
    "\n",
    "l1 = [10,20,30,40,50]\n",
    "l2 = [100,200,300,400,500]\n",
    "l3 = [1,2,3,4,5]\n",
    "l4 = list(map(lambda num1,num2,num3:num1+num2+num3,l1,l2,range(100,106)))\n",
    "print(l4)"
   ]
  },
  {
   "cell_type": "code",
   "execution_count": 124,
   "metadata": {},
   "outputs": [
    {
     "name": "stdout",
     "output_type": "stream",
     "text": [
      "[10, 20, 30, 60]\n"
     ]
    }
   ],
   "source": [
    "# def even(num):\n",
    "#     if num%2 == 0:\n",
    "#         return True\n",
    "#     else:\n",
    "#         return False\n",
    "\n",
    "# l = [10,15,20,25,30,45,60]\n",
    "# l2 = list(filter(lambda num:num%2==0,l))\n",
    "# print(l2)"
   ]
  },
  {
   "cell_type": "code",
   "execution_count": 120,
   "metadata": {},
   "outputs": [
    {
     "name": "stdout",
     "output_type": "stream",
     "text": [
      "[6, 28]\n"
     ]
    }
   ],
   "source": [
    "def perfect(num):\n",
    "    sum = 0\n",
    "    for value in range(1,num):\n",
    "        if num % value == 0:\n",
    "            sum = sum + value\n",
    "    if sum == num:\n",
    "        return True\n",
    "    else:\n",
    "        return False\n",
    "    \n",
    "print(list(filter(perfect,range(1,101))))"
   ]
  },
  {
   "cell_type": "code",
   "execution_count": 129,
   "metadata": {},
   "outputs": [
    {
     "name": "stdout",
     "output_type": "stream",
     "text": [
      "[(500, 10), (300, 20), (400, 30), (200, 40), (100, 50)]\n"
     ]
    }
   ],
   "source": [
    "# def value(t):\n",
    "#     return t[1]\n",
    "# d = {100:50,200:40,400:30,300:20,500:10}\n",
    "# l = sorted(d.items(),key=lambda t:t[1])\n",
    "# print(l)"
   ]
  },
  {
   "cell_type": "code",
   "execution_count": 131,
   "metadata": {},
   "outputs": [
    {
     "name": "stdout",
     "output_type": "stream",
     "text": [
      "Vowel\n"
     ]
    }
   ],
   "source": [
    "c = \"a\"\n",
    "f = lambda c: \"Vowel\" if c in 'aeiou' else \"Consonent\"\n",
    "print(f(c))"
   ]
  }
 ],
 "metadata": {
  "kernelspec": {
   "display_name": "Python 3",
   "language": "python",
   "name": "python3"
  },
  "language_info": {
   "codemirror_mode": {
    "name": "ipython",
    "version": 3
   },
   "file_extension": ".py",
   "mimetype": "text/x-python",
   "name": "python",
   "nbconvert_exporter": "python",
   "pygments_lexer": "ipython3",
   "version": "3.6.5"
  }
 },
 "nbformat": 4,
 "nbformat_minor": 2
}
