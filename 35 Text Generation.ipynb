{
 "cells": [
  {
   "cell_type": "code",
   "execution_count": 3,
   "metadata": {},
   "outputs": [],
   "source": [
    "import numpy\n",
    "from keras.models import Sequential\n",
    "from keras.layers import Dense\n",
    "from keras.layers import Dropout\n",
    "from keras.layers import LSTM\n",
    "from keras.callbacks import ModelCheckpoint\n",
    "from keras.utils import np_utils,get_file"
   ]
  },
  {
   "cell_type": "code",
   "execution_count": 4,
   "metadata": {},
   "outputs": [
    {
     "name": "stdout",
     "output_type": "stream",
     "text": [
      "Downloading data from https://s3.amazonaws.com/text-datasets/nietzsche.txt\n",
      "606208/600901 [==============================] - 3s 5us/step\n"
     ]
    }
   ],
   "source": [
    "path = get_file('nietzsche.txt', origin='https://s3.amazonaws.com/text-datasets/nietzsche.txt')\n",
    "raw_text = open(path).read()\n",
    "raw_text = raw_text.lower()"
   ]
  },
  {
   "cell_type": "code",
   "execution_count": 5,
   "metadata": {},
   "outputs": [],
   "source": [
    "chars = sorted(list(set(raw_text)))"
   ]
  },
  {
   "cell_type": "code",
   "execution_count": 6,
   "metadata": {},
   "outputs": [
    {
     "data": {
      "text/plain": [
       "['\\n', ' ', '!', '\"']"
      ]
     },
     "execution_count": 6,
     "metadata": {},
     "output_type": "execute_result"
    }
   ],
   "source": [
    "chars[:4]"
   ]
  },
  {
   "cell_type": "code",
   "execution_count": 7,
   "metadata": {},
   "outputs": [],
   "source": [
    "char_to_int = dict((c, i) for i, c in enumerate(chars))"
   ]
  },
  {
   "cell_type": "code",
   "execution_count": 8,
   "metadata": {},
   "outputs": [
    {
     "data": {
      "text/plain": [
       "dict_items([('\\n', 0), (' ', 1), ('!', 2), ('\"', 3), (\"'\", 4), ('(', 5), (')', 6), (',', 7), ('-', 8), ('.', 9), ('0', 10), ('1', 11), ('2', 12), ('3', 13), ('4', 14), ('5', 15), ('6', 16), ('7', 17), ('8', 18), ('9', 19), (':', 20), (';', 21), ('=', 22), ('?', 23), ('[', 24), (']', 25), ('_', 26), ('a', 27), ('b', 28), ('c', 29), ('d', 30), ('e', 31), ('f', 32), ('g', 33), ('h', 34), ('i', 35), ('j', 36), ('k', 37), ('l', 38), ('m', 39), ('n', 40), ('o', 41), ('p', 42), ('q', 43), ('r', 44), ('s', 45), ('t', 46), ('u', 47), ('v', 48), ('w', 49), ('x', 50), ('y', 51), ('z', 52), ('¤', 53), ('¦', 54), ('©', 55), ('«', 56), ('ã', 57), ('†', 58)])"
      ]
     },
     "execution_count": 8,
     "metadata": {},
     "output_type": "execute_result"
    }
   ],
   "source": [
    "char_to_int.items()"
   ]
  },
  {
   "cell_type": "code",
   "execution_count": 9,
   "metadata": {},
   "outputs": [],
   "source": [
    "n_chars = len(raw_text)\n",
    "n_vocab = len(chars)"
   ]
  },
  {
   "cell_type": "code",
   "execution_count": 10,
   "metadata": {},
   "outputs": [
    {
     "data": {
      "text/plain": [
       "600901"
      ]
     },
     "execution_count": 10,
     "metadata": {},
     "output_type": "execute_result"
    }
   ],
   "source": [
    "n_chars"
   ]
  },
  {
   "cell_type": "code",
   "execution_count": 11,
   "metadata": {},
   "outputs": [
    {
     "data": {
      "text/plain": [
       "59"
      ]
     },
     "execution_count": 11,
     "metadata": {},
     "output_type": "execute_result"
    }
   ],
   "source": [
    "n_vocab"
   ]
  },
  {
   "cell_type": "code",
   "execution_count": 12,
   "metadata": {},
   "outputs": [
    {
     "name": "stdout",
     "output_type": "stream",
     "text": [
      "Total Patterns:  600801\n"
     ]
    }
   ],
   "source": [
    "# prepare the dataset of input to output pairs encoded as integers\n",
    "seq_length = 100\n",
    "dataX = []\n",
    "dataY = []\n",
    "for i in range(0, n_chars - seq_length):\n",
    "\tseq_in = raw_text[i:i + seq_length]\n",
    "\tseq_out = raw_text[i + seq_length]\n",
    "\tdataX.append([char_to_int[char] for char in seq_in])\n",
    "\tdataY.append(char_to_int[seq_out])\n",
    "n_patterns = len(dataX)\n",
    "print (\"Total Patterns: \", n_patterns)"
   ]
  },
  {
   "cell_type": "code",
   "execution_count": 13,
   "metadata": {},
   "outputs": [],
   "source": [
    "# reshape X to be [samples, time steps, features]\n",
    "X = numpy.reshape(dataX, (n_patterns, seq_length, 1))"
   ]
  },
  {
   "cell_type": "code",
   "execution_count": 14,
   "metadata": {},
   "outputs": [
    {
     "data": {
      "text/plain": [
       "(600801, 100, 1)"
      ]
     },
     "execution_count": 14,
     "metadata": {},
     "output_type": "execute_result"
    }
   ],
   "source": [
    "X.shape"
   ]
  },
  {
   "cell_type": "code",
   "execution_count": 15,
   "metadata": {},
   "outputs": [],
   "source": [
    "# normalize\n",
    "X = X / float(n_vocab)\n",
    "\n",
    "# one hot encode the output variable\n",
    "y = np_utils.to_categorical(dataY)"
   ]
  },
  {
   "cell_type": "code",
   "execution_count": 16,
   "metadata": {},
   "outputs": [
    {
     "data": {
      "text/plain": [
       "(600801, 59)"
      ]
     },
     "execution_count": 16,
     "metadata": {},
     "output_type": "execute_result"
    }
   ],
   "source": [
    "y.shape"
   ]
  },
  {
   "cell_type": "code",
   "execution_count": 21,
   "metadata": {},
   "outputs": [],
   "source": [
    "# define the LSTM model\n",
    "model = Sequential()\n",
    "model.add(LSTM(128, input_shape=(X.shape[1], X.shape[2])))\n",
    "model.add(Dense(y.shape[1], activation='softmax'))\n",
    "model.compile(loss='categorical_crossentropy', optimizer='rmsprop')"
   ]
  },
  {
   "cell_type": "code",
   "execution_count": 22,
   "metadata": {},
   "outputs": [
    {
     "name": "stdout",
     "output_type": "stream",
     "text": [
      "_________________________________________________________________\n",
      "Layer (type)                 Output Shape              Param #   \n",
      "=================================================================\n",
      "lstm_3 (LSTM)                (None, 128)               66560     \n",
      "_________________________________________________________________\n",
      "dense_3 (Dense)              (None, 59)                7611      \n",
      "=================================================================\n",
      "Total params: 74,171\n",
      "Trainable params: 74,171\n",
      "Non-trainable params: 0\n",
      "_________________________________________________________________\n"
     ]
    }
   ],
   "source": [
    "model.summary()"
   ]
  },
  {
   "cell_type": "code",
   "execution_count": 25,
   "metadata": {},
   "outputs": [],
   "source": [
    "# define the checkpoint\n",
    "filepath=\"weights-improvement-{epoch:02d}-{loss:.4f}.hdf5\"\n",
    "checkpoint = ModelCheckpoint(filepath, monitor='loss', verbose=1, save_best_only=True, mode='min')\n",
    "callbacks_list = [checkpoint]"
   ]
  },
  {
   "cell_type": "code",
   "execution_count": 23,
   "metadata": {},
   "outputs": [
    {
     "name": "stdout",
     "output_type": "stream",
     "text": [
      "Epoch 1/40\n",
      "600801/600801 [==============================] - 587s 977us/step - loss: 2.8597\n",
      "Epoch 2/40\n",
      "600801/600801 [==============================] - 607s 1ms/step - loss: 2.7165\n",
      "Epoch 3/40\n",
      "600801/600801 [==============================] - 593s 987us/step - loss: 2.6397\n",
      "Epoch 4/40\n",
      "600801/600801 [==============================] - 594s 989us/step - loss: 2.5729\n",
      "Epoch 5/40\n",
      "600801/600801 [==============================] - 602s 1ms/step - loss: 2.5103\n",
      "Epoch 6/40\n",
      "600801/600801 [==============================] - 612s 1ms/step - loss: 2.4563\n",
      "Epoch 7/40\n",
      "600801/600801 [==============================] - 622s 1ms/step - loss: 2.4112\n",
      "Epoch 8/40\n",
      "600801/600801 [==============================] - 629s 1ms/step - loss: 2.3728\n",
      "Epoch 9/40\n",
      "600801/600801 [==============================] - 640s 1ms/step - loss: 2.3408\n",
      "Epoch 10/40\n",
      "600801/600801 [==============================] - 650s 1ms/step - loss: 2.3120\n",
      "Epoch 11/40\n",
      "600801/600801 [==============================] - 660s 1ms/step - loss: 2.2869\n",
      "Epoch 12/40\n",
      "600801/600801 [==============================] - 671s 1ms/step - loss: 2.2642\n",
      "Epoch 13/40\n",
      "600801/600801 [==============================] - 681s 1ms/step - loss: 2.2437\n",
      "Epoch 14/40\n",
      "600801/600801 [==============================] - 690s 1ms/step - loss: 2.2241\n",
      "Epoch 15/40\n",
      "600801/600801 [==============================] - 699s 1ms/step - loss: 2.2063\n",
      "Epoch 16/40\n",
      "600801/600801 [==============================] - 702s 1ms/step - loss: 2.1910\n",
      "Epoch 17/40\n",
      "600801/600801 [==============================] - 704s 1ms/step - loss: 2.1771\n",
      "Epoch 18/40\n",
      "600801/600801 [==============================] - 702s 1ms/step - loss: 2.1632\n",
      "Epoch 19/40\n",
      "600801/600801 [==============================] - 703s 1ms/step - loss: 2.1518\n",
      "Epoch 20/40\n",
      "600801/600801 [==============================] - 570s 949us/step - loss: 2.1395\n",
      "Epoch 21/40\n",
      "600801/600801 [==============================] - 566s 942us/step - loss: 2.1290\n",
      "Epoch 22/40\n",
      "600801/600801 [==============================] - 567s 944us/step - loss: 2.1183\n",
      "Epoch 23/40\n",
      "600801/600801 [==============================] - 569s 947us/step - loss: 2.1093\n",
      "Epoch 24/40\n",
      "600801/600801 [==============================] - 567s 944us/step - loss: 2.1003\n",
      "Epoch 25/40\n",
      "600801/600801 [==============================] - 568s 945us/step - loss: 2.0914\n",
      "Epoch 26/40\n",
      "600801/600801 [==============================] - 568s 945us/step - loss: 2.0836\n",
      "Epoch 27/40\n",
      "600801/600801 [==============================] - 568s 945us/step - loss: 2.0772\n",
      "Epoch 28/40\n",
      "600801/600801 [==============================] - 568s 945us/step - loss: 2.0704\n",
      "Epoch 29/40\n",
      "600801/600801 [==============================] - 569s 946us/step - loss: 2.0644\n",
      "Epoch 30/40\n",
      "600801/600801 [==============================] - 569s 947us/step - loss: 2.0580\n",
      "Epoch 31/40\n",
      "600801/600801 [==============================] - 569s 947us/step - loss: 2.0522\n",
      "Epoch 32/40\n",
      "600801/600801 [==============================] - 569s 947us/step - loss: 2.0458\n",
      "Epoch 33/40\n",
      "600801/600801 [==============================] - 570s 949us/step - loss: 2.0403\n",
      "Epoch 34/40\n",
      "600801/600801 [==============================] - 571s 951us/step - loss: 2.0346\n",
      "Epoch 35/40\n",
      "600801/600801 [==============================] - 571s 950us/step - loss: 2.0297\n",
      "Epoch 36/40\n",
      "600801/600801 [==============================] - 570s 949us/step - loss: 2.0249\n",
      "Epoch 37/40\n",
      "600801/600801 [==============================] - 572s 951us/step - loss: 2.0193\n",
      "Epoch 38/40\n",
      "600801/600801 [==============================] - 572s 951us/step - loss: 2.0152\n",
      "Epoch 39/40\n",
      "600801/600801 [==============================] - 573s 953us/step - loss: 2.0105\n",
      "Epoch 40/40\n",
      "600801/600801 [==============================] - 572s 952us/step - loss: 2.0063\n"
     ]
    },
    {
     "data": {
      "text/plain": [
       "<keras.callbacks.History at 0x1f1f0138400>"
      ]
     },
     "execution_count": 23,
     "metadata": {},
     "output_type": "execute_result"
    }
   ],
   "source": [
    "model.fit(X, y, epochs=40, batch_size=128)"
   ]
  },
  {
   "cell_type": "code",
   "execution_count": 30,
   "metadata": {},
   "outputs": [],
   "source": [
    "int_to_char = dict(map( lambda x:(x[1],x[0]) ,char_to_int.items()))"
   ]
  },
  {
   "cell_type": "code",
   "execution_count": 33,
   "metadata": {},
   "outputs": [],
   "source": [
    "pred = "
   ]
  },
  {
   "cell_type": "code",
   "execution_count": null,
   "metadata": {},
   "outputs": [],
   "source": [
    "for i in range(10):\n",
    "    o = np.argmax(model.predict(pred))\n",
    "    print (int_to_char[o])\n",
    "    pred.append(o)\n"
   ]
  }
 ],
 "metadata": {
  "kernelspec": {
   "display_name": "Python 3",
   "language": "python",
   "name": "python3"
  },
  "language_info": {
   "codemirror_mode": {
    "name": "ipython",
    "version": 3
   },
   "file_extension": ".py",
   "mimetype": "text/x-python",
   "name": "python",
   "nbconvert_exporter": "python",
   "pygments_lexer": "ipython3",
   "version": "3.6.5"
  }
 },
 "nbformat": 4,
 "nbformat_minor": 2
}
